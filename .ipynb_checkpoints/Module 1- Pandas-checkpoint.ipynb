{
 "cells": [
  {
   "cell_type": "markdown",
   "metadata": {},
   "source": [
    "# Module 1"
   ]
  },
  {
   "cell_type": "markdown",
   "metadata": {},
   "source": [
    "   ### Welcome to the Answer notebook for Module 1 ! \n",
    "These notebooks have been provided to code and solve all the queries asked in the modules.\n",
    "\n",
    "This environment has all the necessary libraries pre-installed, and all the Stock, Commodities and Index data files available at the following location - \n",
    "\n"
   ]
  },
  {
   "cell_type": "markdown",
   "metadata": {},
   "source": [
    "#### The problem statements and their corresponding answers are expected to be in the following format - \n"
   ]
  },
  {
   "cell_type": "markdown",
   "metadata": {},
   "source": [
    "#--------------------------------------------------------------------------------------------------------------------------------------------------------------------------------------------------------#"
   ]
  },
  {
   "cell_type": "markdown",
   "metadata": {},
   "source": [
    "### Query 1.1 \n",
    "Import the csv file of the stock of your choosing using 'pd.read_csv()' function into a dataframe.\n",
    "Shares of a company can be offered in more than one category. The category of a stock is indicated in the ‘Series’ column. If the csv file has data on more than one category, the ‘Date’ column will have repeating values. To avoid repetitions in the date, remove all the rows where 'Series' column is NOT 'EQ'.\n",
    "Analyze and understand each column properly.\n",
    "You'd find the head(), tail() and describe() functions to be immensely useful for exploration. You're free to carry out any other exploration of your own."
   ]
  },
  {
   "cell_type": "code",
   "execution_count": 33,
   "metadata": {},
   "outputs": [],
   "source": [
    "import numpy as np\n",
    "import pandas as pd\n",
    "import matplotlib.pyplot\n",
    "import datetime as dt\n",
    "import warnings\n",
    "warnings.filterwarnings('ignore')"
   ]
  },
  {
   "cell_type": "code",
   "execution_count": 34,
   "metadata": {},
   "outputs": [],
   "source": [
    "dataset = pd.read_csv(\"Small_Cap/JETAIRWAYS.csv\")"
   ]
  },
  {
   "cell_type": "markdown",
   "metadata": {},
   "source": [
    "### Query 1.2\n",
    "Calculate the maximum, minimum and mean price for the last 90 days. (price=Closing Price unless stated otherwise)"
   ]
  },
  {
   "cell_type": "code",
   "execution_count": 35,
   "metadata": {},
   "outputs": [
    {
     "name": "stdout",
     "output_type": "stream",
     "text": [
      "The Minimum Price for the Jetairways in last 90 days is: 127.30\n",
      "The Maximum Price for the Jetairways in last 90 days is: 294.45\n",
      "The Average Price for the Jetairways in last 90 days is: 232.43\n"
     ]
    }
   ],
   "source": [
    "max_price = dataset['Close Price'][len(dataset['Close Price']) - 90 :].max()\n",
    "min_price = dataset['Close Price'][len(dataset['Close Price']) - 90 :].min()\n",
    "avg_price = dataset['Close Price'][len(dataset['Close Price']) - 90 :].mean()\n",
    "\n",
    "print('The Minimum Price for the Jetairways in last 90 days is:% 3.2f\\n'\n",
    "      'The Maximum Price for the Jetairways in last 90 days is:% 3.2f\\n' \n",
    "      'The Average Price for the Jetairways in last 90 days is:% 3.2f'\n",
    "      %(min_price, max_price,avg_price))"
   ]
  },
  {
   "cell_type": "markdown",
   "metadata": {},
   "source": [
    "### Query 1.3\n",
    "Analyse the data types for each column of the dataframe. Pandas knows how to deal with dates in an intelligent manner. But to make use of Pandas functionality for dates, you need to ensure that the column is of type 'datetime64(ns)'. Change the date column from 'object' type to 'datetime64(ns)' for future convenience. See what happens if you subtract the minimum value of the date column from the maximum value.\n"
   ]
  },
  {
   "cell_type": "code",
   "execution_count": 36,
   "metadata": {},
   "outputs": [
    {
     "data": {
      "text/plain": [
       "Timedelta('728 days 00:00:00')"
      ]
     },
     "execution_count": 36,
     "metadata": {},
     "output_type": "execute_result"
    }
   ],
   "source": [
    "dataset['Date'] = dataset['Date'].astype(dtype = 'datetime64')\n",
    "dataset['Date'].max() - dataset['Date'].min()"
   ]
  },
  {
   "cell_type": "markdown",
   "metadata": {},
   "source": [
    "### Query 1.4\n",
    "In a separate array , calculate the monthwise VWAP (Volume Weighted Average Price ) of the stock. \n",
    "( VWAP = sum(price*volume)/sum(volume) ) "
   ]
  },
  {
   "cell_type": "code",
   "execution_count": 37,
   "metadata": {},
   "outputs": [],
   "source": [
    "dataset['Year'] = dataset['Date'].dt.year\n",
    "dataset['Month'] = dataset['Date'].dt.month\n",
    "dataset['Day'] = dataset['Date'].dt.day"
   ]
  },
  {
   "cell_type": "code",
   "execution_count": 38,
   "metadata": {},
   "outputs": [],
   "source": [
    "df1 = dataset[['Year','Month','Total Traded Quantity']].groupby(by = ['Month','Year']).sum()\n",
    "df2 = dataset[['Year','Month','Turnover']].groupby(by = ['Month','Year']).sum()\n",
    "q = df2['Turnover']/df1['Total Traded Quantity']"
   ]
  },
  {
   "cell_type": "code",
   "execution_count": 39,
   "metadata": {},
   "outputs": [
    {
     "name": "stdout",
     "output_type": "stream",
     "text": [
      "The monthwise VWAP (Volume Weighted Average Price) is: \n"
     ]
    },
    {
     "data": {
      "text/plain": [
       "Month  Year\n",
       "1      2018    822.669527\n",
       "       2019    271.173945\n",
       "2      2018    752.532062\n",
       "       2019    234.071246\n",
       "3      2018    680.421115\n",
       "       2019    251.345263\n",
       "4      2018    620.666672\n",
       "       2019    204.080058\n",
       "5      2017    485.773816\n",
       "       2018    456.546230\n",
       "       2019    136.556456\n",
       "6      2017    533.839322\n",
       "       2018    383.612206\n",
       "7      2017    595.578049\n",
       "       2018    326.720377\n",
       "8      2017    583.427051\n",
       "       2018    292.881477\n",
       "9      2017    545.137806\n",
       "       2018    233.734160\n",
       "10     2017    514.835577\n",
       "       2018    202.554346\n",
       "11     2017    663.999481\n",
       "       2018    302.007092\n",
       "12     2017    728.611391\n",
       "       2018    267.607376\n",
       "dtype: float64"
      ]
     },
     "execution_count": 39,
     "metadata": {},
     "output_type": "execute_result"
    }
   ],
   "source": [
    "print('The monthwise VWAP (Volume Weighted Average Price) is: ')\n",
    "q"
   ]
  },
  {
   "cell_type": "markdown",
   "metadata": {},
   "source": [
    "### Query 1.5\n",
    "Write a function to calculate the average price over the last N days of the stock price data where N is a user defined parameter. Write a second function to calculate the profit/loss percentage over the last N days.\n",
    "Calculate the average price AND the profit/loss percentages over the course of last -\n",
    "1 week, 2 weeks, 1 month, 3 months, 6 months and 1 year."
   ]
  },
  {
   "cell_type": "code",
   "execution_count": 40,
   "metadata": {},
   "outputs": [],
   "source": [
    "def N_day_avg_price(N = 1):\n",
    "    return dataset['Average Price'][len(dataset) - N:].mean()"
   ]
  },
  {
   "cell_type": "code",
   "execution_count": 41,
   "metadata": {},
   "outputs": [],
   "source": [
    "def profit_loss_percent(N = 1):\n",
    "    return (dataset['Close Price'][len(dataset)-1] - dataset['Close Price'][N])/dataset['Close Price'][N]*100"
   ]
  },
  {
   "cell_type": "code",
   "execution_count": 42,
   "metadata": {},
   "outputs": [
    {
     "name": "stdout",
     "output_type": "stream",
     "text": [
      "The Average Price over last 1 Week is: 137.34 \n",
      "The Average Price over last 2 Weeks is: 147.61 \n",
      "The Average Price over last 1 Month is: 205.92 \n",
      "The Average Price over last 6 Months is: 243.74 \n",
      "The Average Price over last year is: 414.89 \n"
     ]
    }
   ],
   "source": [
    "print('The Average Price over last 1 Week is: %3.2f ' %(N_day_avg_price(7)))\n",
    "print(\"The Average Price over last 2 Weeks is: %3.2f \"  %(N_day_avg_price(14)))\n",
    "print(\"The Average Price over last 1 Month is: %3.2f \"  %(N_day_avg_price(30)))\n",
    "print(\"The Average Price over last 6 Months is: %3.2f \" %(N_day_avg_price(30*6)))\n",
    "print(\"The Average Price over last year is: %3.2f \"  %(N_day_avg_price(365)))"
   ]
  },
  {
   "cell_type": "code",
   "execution_count": 43,
   "metadata": {},
   "outputs": [
    {
     "name": "stdout",
     "output_type": "stream",
     "text": [
      "The Profit/Loss percentage over last 1 Week is: -70.07 \n",
      "The Profit/Loss percentage over last 2 Weeks is: -71.31 \n",
      "The Profit/Loss percentage over last 1 Month is: -74.81 \n",
      "The Profit/Loss percentage over last 6 Months is: -81.54 \n",
      "The Profit/Loss percentage over last year is: -38.07 \n"
     ]
    }
   ],
   "source": [
    "print('The Profit/Loss percentage over last 1 Week is: %3.2f ' %(profit_loss_percent(7)))\n",
    "print(\"The Profit/Loss percentage over last 2 Weeks is: %3.2f \"  %(profit_loss_percent(14)))\n",
    "print(\"The Profit/Loss percentage over last 1 Month is: %3.2f \"  %(profit_loss_percent(30)))\n",
    "print(\"The Profit/Loss percentage over last 6 Months is: %3.2f \" %(profit_loss_percent(30*6)))\n",
    "print(\"The Profit/Loss percentage over last year is: %3.2f \"  %(profit_loss_percent(365)))"
   ]
  },
  {
   "cell_type": "markdown",
   "metadata": {},
   "source": [
    "### Query 1.6\n",
    "Add a column 'Day_Perc_Change' where the values are the daily change in percentages i.e. the percentage change between 2 consecutive day's closing prices. Instead of using the basic mathematical formula for computing the same, use 'pct_change()' function provided by Pandas for dataframes. You will note that the first entry of the column will have a ‘Nan’ value. Why does this happen? Either remove the first row, or set the entry to 0 before proceeding."
   ]
  },
  {
   "cell_type": "code",
   "execution_count": 44,
   "metadata": {},
   "outputs": [],
   "source": [
    "dataset['Day_Prec_Change'] = dataset['Close Price'].pct_change()*100\n",
    "dataset['Day_Prec_Change'][0] = 0.000"
   ]
  },
  {
   "cell_type": "markdown",
   "metadata": {},
   "source": [
    "### Query 1.7\n",
    "Add another column 'Trend' whose values are: <br>\n",
    "* 'Slight or No change' for 'Day_Perc_Change' in between -0.5 and 0.5<br>\n",
    "* 'Slight positive' for 'Day_Perc_Change' in between 0.5 and 1<br>\n",
    "* 'Slight negative' for 'Day_Perc_Change' in between -0.5 and -1<br>\n",
    "* 'Positive' for 'Day_Perc_Change' in between 1 and 3<br>\n",
    "* 'Negative' for 'Day_Perc_Change' in between -1 and -3<br>\n",
    "* 'Among top gainers' for 'Day_Perc_Change' in between 3 and 7<br>\n",
    "* 'Among top losers' for 'Day_Perc_Change' in between -3 and -7<br>\n",
    "* 'Bull run' for 'Day_Perc_Change' >7<br>\n",
    "* 'Bear drop' for 'Day_Perc_Change' <-7<br>"
   ]
  },
  {
   "cell_type": "code",
   "execution_count": 45,
   "metadata": {},
   "outputs": [],
   "source": [
    "dataset['Trend'] = np.nan\n",
    "for i in range(len(dataset)):\n",
    "    if dataset['Day_Prec_Change'][i] > -0.5 and dataset['Day_Prec_Change'][i] < 0.5:\n",
    "        dataset['Trend'][i] = 'Slight or No Change'\n",
    "    elif dataset['Day_Prec_Change'][i] > 0.5 and dataset['Day_Prec_Change'][i] < 1:\n",
    "        dataset['Trend'][i] = 'Slight positive'\n",
    "    elif dataset['Day_Prec_Change'][i] > 1 and dataset['Day_Prec_Change'][i] < 3:\n",
    "        dataset['Trend'][i] = 'Positive'\n",
    "    elif dataset['Day_Prec_Change'][i] > 3 and dataset['Day_Prec_Change'][i] < 7:\n",
    "        dataset['Trend'][i] = 'Among top gainers'\n",
    "    elif dataset['Day_Prec_Change'][i] > 7:\n",
    "        dataset['Trend'][i] = 'Bull run'\n",
    "    elif dataset['Day_Prec_Change'][i] > -1 and dataset['Day_Prec_Change'][i] < -0.5:\n",
    "        dataset['Trend'][i] = 'Slight negative'\n",
    "    elif dataset['Day_Prec_Change'][i] > -3 and dataset['Day_Prec_Change'][i] < -1:\n",
    "        dataset['Trend'][i] = 'Negative'\n",
    "    elif dataset['Day_Prec_Change'][i] > -7 and dataset['Day_Prec_Change'][i] < -3:\n",
    "        dataset['Trend'][i] = 'Among top losers'\n",
    "    elif dataset['Day_Prec_Change'][i] < -7:\n",
    "        dataset['Trend'][i] = 'Bear run'"
   ]
  },
  {
   "cell_type": "markdown",
   "metadata": {},
   "source": [
    "### Query 1.8\n",
    "Find the average and median values of the column 'Total Traded Quantity' for each of the types of 'Trend'."
   ]
  },
  {
   "cell_type": "code",
   "execution_count": 46,
   "metadata": {},
   "outputs": [
    {
     "name": "stdout",
     "output_type": "stream",
     "text": [
      "The Average of the Total Traded Quantity grouped by Trend is:\n"
     ]
    },
    {
     "data": {
      "text/html": [
       "<div>\n",
       "<style scoped>\n",
       "    .dataframe tbody tr th:only-of-type {\n",
       "        vertical-align: middle;\n",
       "    }\n",
       "\n",
       "    .dataframe tbody tr th {\n",
       "        vertical-align: top;\n",
       "    }\n",
       "\n",
       "    .dataframe thead th {\n",
       "        text-align: right;\n",
       "    }\n",
       "</style>\n",
       "<table border=\"1\" class=\"dataframe\">\n",
       "  <thead>\n",
       "    <tr style=\"text-align: right;\">\n",
       "      <th></th>\n",
       "      <th>Total Traded Quantity</th>\n",
       "    </tr>\n",
       "    <tr>\n",
       "      <th>Trend</th>\n",
       "      <th></th>\n",
       "    </tr>\n",
       "  </thead>\n",
       "  <tbody>\n",
       "    <tr>\n",
       "      <th>Among top gainers</th>\n",
       "      <td>9.826436e+06</td>\n",
       "    </tr>\n",
       "    <tr>\n",
       "      <th>Among top losers</th>\n",
       "      <td>8.110081e+06</td>\n",
       "    </tr>\n",
       "    <tr>\n",
       "      <th>Bear run</th>\n",
       "      <td>1.773643e+07</td>\n",
       "    </tr>\n",
       "    <tr>\n",
       "      <th>Bull run</th>\n",
       "      <td>2.649510e+07</td>\n",
       "    </tr>\n",
       "    <tr>\n",
       "      <th>Negative</th>\n",
       "      <td>4.997933e+06</td>\n",
       "    </tr>\n",
       "    <tr>\n",
       "      <th>Positive</th>\n",
       "      <td>5.840309e+06</td>\n",
       "    </tr>\n",
       "    <tr>\n",
       "      <th>Slight negative</th>\n",
       "      <td>3.890615e+06</td>\n",
       "    </tr>\n",
       "    <tr>\n",
       "      <th>Slight or No Change</th>\n",
       "      <td>4.627527e+06</td>\n",
       "    </tr>\n",
       "    <tr>\n",
       "      <th>Slight positive</th>\n",
       "      <td>4.822245e+06</td>\n",
       "    </tr>\n",
       "  </tbody>\n",
       "</table>\n",
       "</div>"
      ],
      "text/plain": [
       "                     Total Traded Quantity\n",
       "Trend                                     \n",
       "Among top gainers             9.826436e+06\n",
       "Among top losers              8.110081e+06\n",
       "Bear run                      1.773643e+07\n",
       "Bull run                      2.649510e+07\n",
       "Negative                      4.997933e+06\n",
       "Positive                      5.840309e+06\n",
       "Slight negative               3.890615e+06\n",
       "Slight or No Change           4.627527e+06\n",
       "Slight positive               4.822245e+06"
      ]
     },
     "execution_count": 46,
     "metadata": {},
     "output_type": "execute_result"
    }
   ],
   "source": [
    "print('The Average of the Total Traded Quantity grouped by Trend is:')\n",
    "dataset[['Trend','Total Traded Quantity']].groupby(by = ['Trend']).mean()"
   ]
  },
  {
   "cell_type": "code",
   "execution_count": 47,
   "metadata": {},
   "outputs": [
    {
     "name": "stdout",
     "output_type": "stream",
     "text": [
      "The Median of the Total Traded Quantity grouped by Trend is:\n"
     ]
    },
    {
     "data": {
      "text/html": [
       "<div>\n",
       "<style scoped>\n",
       "    .dataframe tbody tr th:only-of-type {\n",
       "        vertical-align: middle;\n",
       "    }\n",
       "\n",
       "    .dataframe tbody tr th {\n",
       "        vertical-align: top;\n",
       "    }\n",
       "\n",
       "    .dataframe thead th {\n",
       "        text-align: right;\n",
       "    }\n",
       "</style>\n",
       "<table border=\"1\" class=\"dataframe\">\n",
       "  <thead>\n",
       "    <tr style=\"text-align: right;\">\n",
       "      <th></th>\n",
       "      <th>Total Traded Quantity</th>\n",
       "    </tr>\n",
       "    <tr>\n",
       "      <th>Trend</th>\n",
       "      <th></th>\n",
       "    </tr>\n",
       "  </thead>\n",
       "  <tbody>\n",
       "    <tr>\n",
       "      <th>Among top gainers</th>\n",
       "      <td>5878245.0</td>\n",
       "    </tr>\n",
       "    <tr>\n",
       "      <th>Among top losers</th>\n",
       "      <td>5545462.0</td>\n",
       "    </tr>\n",
       "    <tr>\n",
       "      <th>Bear run</th>\n",
       "      <td>10010406.0</td>\n",
       "    </tr>\n",
       "    <tr>\n",
       "      <th>Bull run</th>\n",
       "      <td>14275940.5</td>\n",
       "    </tr>\n",
       "    <tr>\n",
       "      <th>Negative</th>\n",
       "      <td>3572065.0</td>\n",
       "    </tr>\n",
       "    <tr>\n",
       "      <th>Positive</th>\n",
       "      <td>3713022.0</td>\n",
       "    </tr>\n",
       "    <tr>\n",
       "      <th>Slight negative</th>\n",
       "      <td>2575455.0</td>\n",
       "    </tr>\n",
       "    <tr>\n",
       "      <th>Slight or No Change</th>\n",
       "      <td>2879975.0</td>\n",
       "    </tr>\n",
       "    <tr>\n",
       "      <th>Slight positive</th>\n",
       "      <td>3227703.0</td>\n",
       "    </tr>\n",
       "  </tbody>\n",
       "</table>\n",
       "</div>"
      ],
      "text/plain": [
       "                     Total Traded Quantity\n",
       "Trend                                     \n",
       "Among top gainers                5878245.0\n",
       "Among top losers                 5545462.0\n",
       "Bear run                        10010406.0\n",
       "Bull run                        14275940.5\n",
       "Negative                         3572065.0\n",
       "Positive                         3713022.0\n",
       "Slight negative                  2575455.0\n",
       "Slight or No Change              2879975.0\n",
       "Slight positive                  3227703.0"
      ]
     },
     "execution_count": 47,
     "metadata": {},
     "output_type": "execute_result"
    }
   ],
   "source": [
    "print('The Median of the Total Traded Quantity grouped by Trend is:')\n",
    "dataset[['Trend','Total Traded Quantity']].groupby(by = ['Trend']).median()"
   ]
  },
  {
   "cell_type": "markdown",
   "metadata": {},
   "source": [
    "### Query 1.9\n",
    "SAVE the dataframe with the additional columns computed as a csv file week2.csv. In Module 2, you are going to get familiar with matplotlib, the python module which is used to visualize data.\n"
   ]
  },
  {
   "cell_type": "code",
   "execution_count": 49,
   "metadata": {},
   "outputs": [],
   "source": [
    "export_csv = dataset.to_csv (r'week2.csv', index = None, header=True)"
   ]
  },
  {
   "cell_type": "code",
   "execution_count": null,
   "metadata": {},
   "outputs": [],
   "source": []
  }
 ],
 "metadata": {
  "celltoolbar": "Raw Cell Format",
  "kernelspec": {
   "display_name": "Python 3",
   "language": "python",
   "name": "python3"
  },
  "language_info": {
   "codemirror_mode": {
    "name": "ipython",
    "version": 3
   },
   "file_extension": ".py",
   "mimetype": "text/x-python",
   "name": "python",
   "nbconvert_exporter": "python",
   "pygments_lexer": "ipython3",
   "version": "3.7.3"
  }
 },
 "nbformat": 4,
 "nbformat_minor": 2
}
