{
 "cells": [
  {
   "cell_type": "markdown",
   "metadata": {},
   "source": [
    "# Module 4"
   ]
  },
  {
   "cell_type": "markdown",
   "metadata": {},
   "source": [
    "### Query4.1 \n",
    "Import the csv file of the stock which contained the Bollinger columns as well.\n",
    "\n",
    "* Create a new column 'Call' , whose entries are - \n",
    "  * 'Buy' if the stock price is below the lower Bollinger band \n",
    "  * 'Hold Buy/ Liquidate Short' if the stock price is between the lower and middle Bollinger band \n",
    "  * 'Hold Short/ Liquidate Buy' if the stock price is between the middle and upper Bollinger band \n",
    "  * 'Short' if the stock price is above the upper Bollinger band\n",
    "  \n",
    "* Now train a classification model with the 3 bollinger columns and the stock price as inputs and 'Calls' as output. Check the accuracy on a test set. (There are many classifier models to choose from, try each one out and compare the accuracy for each)\n",
    "\n",
    "* Import another stock data and create the bollinger columns. Using the already defined model, predict the daily calls for this new stock.\n"
   ]
  },
  {
   "cell_type": "code",
   "execution_count": 1,
   "metadata": {},
   "outputs": [],
   "source": [
    "import seaborn as sns\n",
    "import numpy as np\n",
    "import pandas as pd\n",
    "import matplotlib.pyplot as plt\n",
    "import datetime as dt\n",
    "import warnings\n",
    "warnings.filterwarnings('ignore')\n",
    "%matplotlib notebook"
   ]
  },
  {
   "cell_type": "code",
   "execution_count": 2,
   "metadata": {},
   "outputs": [
    {
     "data": {
      "text/html": [
       "<div>\n",
       "<style scoped>\n",
       "    .dataframe tbody tr th:only-of-type {\n",
       "        vertical-align: middle;\n",
       "    }\n",
       "\n",
       "    .dataframe tbody tr th {\n",
       "        vertical-align: top;\n",
       "    }\n",
       "\n",
       "    .dataframe thead th {\n",
       "        text-align: right;\n",
       "    }\n",
       "</style>\n",
       "<table border=\"1\" class=\"dataframe\">\n",
       "  <thead>\n",
       "    <tr style=\"text-align: right;\">\n",
       "      <th></th>\n",
       "      <th>Symbol</th>\n",
       "      <th>Series</th>\n",
       "      <th>Prev Close</th>\n",
       "      <th>Open Price</th>\n",
       "      <th>High Price</th>\n",
       "      <th>Low Price</th>\n",
       "      <th>Last Price</th>\n",
       "      <th>Close Price</th>\n",
       "      <th>Average Price</th>\n",
       "      <th>Total Traded Quantity</th>\n",
       "      <th>Turnover</th>\n",
       "      <th>No. of Trades</th>\n",
       "      <th>Deliverable Qty</th>\n",
       "      <th>% Dly Qt to Traded Qty</th>\n",
       "      <th>Average</th>\n",
       "      <th>+2 SD</th>\n",
       "      <th>-2 SD</th>\n",
       "    </tr>\n",
       "    <tr>\n",
       "      <th>Date</th>\n",
       "      <th></th>\n",
       "      <th></th>\n",
       "      <th></th>\n",
       "      <th></th>\n",
       "      <th></th>\n",
       "      <th></th>\n",
       "      <th></th>\n",
       "      <th></th>\n",
       "      <th></th>\n",
       "      <th></th>\n",
       "      <th></th>\n",
       "      <th></th>\n",
       "      <th></th>\n",
       "      <th></th>\n",
       "      <th></th>\n",
       "      <th></th>\n",
       "      <th></th>\n",
       "    </tr>\n",
       "  </thead>\n",
       "  <tbody>\n",
       "    <tr>\n",
       "      <th>2017-06-01</th>\n",
       "      <td>FORTIS</td>\n",
       "      <td>EQ</td>\n",
       "      <td>195.15</td>\n",
       "      <td>195.90</td>\n",
       "      <td>200.25</td>\n",
       "      <td>195.15</td>\n",
       "      <td>199.80</td>\n",
       "      <td>198.35</td>\n",
       "      <td>197.35</td>\n",
       "      <td>837394</td>\n",
       "      <td>1.652597e+08</td>\n",
       "      <td>6033</td>\n",
       "      <td>248194</td>\n",
       "      <td>29.64</td>\n",
       "      <td>199.871429</td>\n",
       "      <td>209.101539</td>\n",
       "      <td>190.641318</td>\n",
       "    </tr>\n",
       "    <tr>\n",
       "      <th>2017-06-02</th>\n",
       "      <td>FORTIS</td>\n",
       "      <td>EQ</td>\n",
       "      <td>198.35</td>\n",
       "      <td>200.05</td>\n",
       "      <td>201.60</td>\n",
       "      <td>191.75</td>\n",
       "      <td>193.20</td>\n",
       "      <td>192.95</td>\n",
       "      <td>195.33</td>\n",
       "      <td>2967855</td>\n",
       "      <td>5.797230e+08</td>\n",
       "      <td>15457</td>\n",
       "      <td>1540619</td>\n",
       "      <td>51.91</td>\n",
       "      <td>198.992857</td>\n",
       "      <td>208.358166</td>\n",
       "      <td>189.627548</td>\n",
       "    </tr>\n",
       "    <tr>\n",
       "      <th>2017-06-05</th>\n",
       "      <td>FORTIS</td>\n",
       "      <td>EQ</td>\n",
       "      <td>192.95</td>\n",
       "      <td>194.00</td>\n",
       "      <td>196.90</td>\n",
       "      <td>193.60</td>\n",
       "      <td>194.75</td>\n",
       "      <td>194.90</td>\n",
       "      <td>195.37</td>\n",
       "      <td>1688838</td>\n",
       "      <td>3.299437e+08</td>\n",
       "      <td>12741</td>\n",
       "      <td>654094</td>\n",
       "      <td>38.73</td>\n",
       "      <td>198.064286</td>\n",
       "      <td>206.110253</td>\n",
       "      <td>190.018319</td>\n",
       "    </tr>\n",
       "    <tr>\n",
       "      <th>2017-06-06</th>\n",
       "      <td>FORTIS</td>\n",
       "      <td>EQ</td>\n",
       "      <td>194.90</td>\n",
       "      <td>195.40</td>\n",
       "      <td>195.45</td>\n",
       "      <td>189.10</td>\n",
       "      <td>190.40</td>\n",
       "      <td>191.05</td>\n",
       "      <td>192.04</td>\n",
       "      <td>3708378</td>\n",
       "      <td>7.121618e+08</td>\n",
       "      <td>17057</td>\n",
       "      <td>2344287</td>\n",
       "      <td>63.22</td>\n",
       "      <td>197.003571</td>\n",
       "      <td>204.496077</td>\n",
       "      <td>189.511066</td>\n",
       "    </tr>\n",
       "    <tr>\n",
       "      <th>2017-06-07</th>\n",
       "      <td>FORTIS</td>\n",
       "      <td>EQ</td>\n",
       "      <td>191.05</td>\n",
       "      <td>191.10</td>\n",
       "      <td>198.70</td>\n",
       "      <td>191.10</td>\n",
       "      <td>194.50</td>\n",
       "      <td>194.05</td>\n",
       "      <td>195.63</td>\n",
       "      <td>3368728</td>\n",
       "      <td>6.590180e+08</td>\n",
       "      <td>21279</td>\n",
       "      <td>1095546</td>\n",
       "      <td>32.52</td>\n",
       "      <td>196.803571</td>\n",
       "      <td>204.461394</td>\n",
       "      <td>189.145748</td>\n",
       "    </tr>\n",
       "  </tbody>\n",
       "</table>\n",
       "</div>"
      ],
      "text/plain": [
       "            Symbol Series  Prev Close  Open Price  High Price  Low Price  \\\n",
       "Date                                                                       \n",
       "2017-06-01  FORTIS     EQ      195.15      195.90      200.25     195.15   \n",
       "2017-06-02  FORTIS     EQ      198.35      200.05      201.60     191.75   \n",
       "2017-06-05  FORTIS     EQ      192.95      194.00      196.90     193.60   \n",
       "2017-06-06  FORTIS     EQ      194.90      195.40      195.45     189.10   \n",
       "2017-06-07  FORTIS     EQ      191.05      191.10      198.70     191.10   \n",
       "\n",
       "                Last Price  Close Price  Average Price  Total Traded Quantity  \\\n",
       "Date                                                                            \n",
       "2017-06-01          199.80       198.35         197.35                 837394   \n",
       "2017-06-02          193.20       192.95         195.33                2967855   \n",
       "2017-06-05          194.75       194.90         195.37                1688838   \n",
       "2017-06-06          190.40       191.05         192.04                3708378   \n",
       "2017-06-07          194.50       194.05         195.63                3368728   \n",
       "\n",
       "                Turnover  No. of Trades  Deliverable Qty  \\\n",
       "Date                                                       \n",
       "2017-06-01  1.652597e+08           6033           248194   \n",
       "2017-06-02  5.797230e+08          15457          1540619   \n",
       "2017-06-05  3.299437e+08          12741           654094   \n",
       "2017-06-06  7.121618e+08          17057          2344287   \n",
       "2017-06-07  6.590180e+08          21279          1095546   \n",
       "\n",
       "            % Dly Qt to Traded Qty     Average       +2 SD       -2 SD  \n",
       "Date                                                                    \n",
       "2017-06-01                   29.64  199.871429  209.101539  190.641318  \n",
       "2017-06-02                   51.91  198.992857  208.358166  189.627548  \n",
       "2017-06-05                   38.73  198.064286  206.110253  190.018319  \n",
       "2017-06-06                   63.22  197.003571  204.496077  189.511066  \n",
       "2017-06-07                   32.52  196.803571  204.461394  189.145748  "
      ]
     },
     "execution_count": 2,
     "metadata": {},
     "output_type": "execute_result"
    }
   ],
   "source": [
    "df = pd.read_csv('Small_Cap/FORTIS.csv')\n",
    "df['Average'] = pd.read_csv(\"week2 v.csv\")\n",
    "df['+2 SD'] = pd.read_csv('week2 vu.csv')\n",
    "df['-2 SD'] = pd.read_csv('week2 vl.csv')\n",
    "df = df.dropna()\n",
    "df['Date'] = df['Date'].astype('datetime64')\n",
    "df.set_index('Date',inplace =True)\n",
    "df.head()"
   ]
  },
  {
   "cell_type": "code",
   "execution_count": 12,
   "metadata": {},
   "outputs": [
    {
     "data": {
      "text/html": [
       "<div>\n",
       "<style scoped>\n",
       "    .dataframe tbody tr th:only-of-type {\n",
       "        vertical-align: middle;\n",
       "    }\n",
       "\n",
       "    .dataframe tbody tr th {\n",
       "        vertical-align: top;\n",
       "    }\n",
       "\n",
       "    .dataframe thead th {\n",
       "        text-align: right;\n",
       "    }\n",
       "</style>\n",
       "<table border=\"1\" class=\"dataframe\">\n",
       "  <thead>\n",
       "    <tr style=\"text-align: right;\">\n",
       "      <th></th>\n",
       "      <th>Symbol</th>\n",
       "      <th>Series</th>\n",
       "      <th>Prev Close</th>\n",
       "      <th>Open Price</th>\n",
       "      <th>High Price</th>\n",
       "      <th>Low Price</th>\n",
       "      <th>Last Price</th>\n",
       "      <th>Close Price</th>\n",
       "      <th>Average Price</th>\n",
       "      <th>Total Traded Quantity</th>\n",
       "      <th>Turnover</th>\n",
       "      <th>No. of Trades</th>\n",
       "      <th>Deliverable Qty</th>\n",
       "      <th>% Dly Qt to Traded Qty</th>\n",
       "      <th>Average</th>\n",
       "      <th>+2 SD</th>\n",
       "      <th>-2 SD</th>\n",
       "      <th>Call</th>\n",
       "    </tr>\n",
       "    <tr>\n",
       "      <th>Date</th>\n",
       "      <th></th>\n",
       "      <th></th>\n",
       "      <th></th>\n",
       "      <th></th>\n",
       "      <th></th>\n",
       "      <th></th>\n",
       "      <th></th>\n",
       "      <th></th>\n",
       "      <th></th>\n",
       "      <th></th>\n",
       "      <th></th>\n",
       "      <th></th>\n",
       "      <th></th>\n",
       "      <th></th>\n",
       "      <th></th>\n",
       "      <th></th>\n",
       "      <th></th>\n",
       "      <th></th>\n",
       "    </tr>\n",
       "  </thead>\n",
       "  <tbody>\n",
       "    <tr>\n",
       "      <th>2017-06-01</th>\n",
       "      <td>FORTIS</td>\n",
       "      <td>EQ</td>\n",
       "      <td>195.15</td>\n",
       "      <td>195.90</td>\n",
       "      <td>200.25</td>\n",
       "      <td>195.15</td>\n",
       "      <td>199.80</td>\n",
       "      <td>198.35</td>\n",
       "      <td>197.35</td>\n",
       "      <td>837394</td>\n",
       "      <td>1.652597e+08</td>\n",
       "      <td>6033</td>\n",
       "      <td>248194</td>\n",
       "      <td>29.64</td>\n",
       "      <td>199.871429</td>\n",
       "      <td>209.101539</td>\n",
       "      <td>190.641318</td>\n",
       "      <td>Hold Buy/ Liquidate Short</td>\n",
       "    </tr>\n",
       "    <tr>\n",
       "      <th>2017-06-02</th>\n",
       "      <td>FORTIS</td>\n",
       "      <td>EQ</td>\n",
       "      <td>198.35</td>\n",
       "      <td>200.05</td>\n",
       "      <td>201.60</td>\n",
       "      <td>191.75</td>\n",
       "      <td>193.20</td>\n",
       "      <td>192.95</td>\n",
       "      <td>195.33</td>\n",
       "      <td>2967855</td>\n",
       "      <td>5.797230e+08</td>\n",
       "      <td>15457</td>\n",
       "      <td>1540619</td>\n",
       "      <td>51.91</td>\n",
       "      <td>198.992857</td>\n",
       "      <td>208.358166</td>\n",
       "      <td>189.627548</td>\n",
       "      <td>Hold Buy/ Liquidate Short</td>\n",
       "    </tr>\n",
       "    <tr>\n",
       "      <th>2017-06-05</th>\n",
       "      <td>FORTIS</td>\n",
       "      <td>EQ</td>\n",
       "      <td>192.95</td>\n",
       "      <td>194.00</td>\n",
       "      <td>196.90</td>\n",
       "      <td>193.60</td>\n",
       "      <td>194.75</td>\n",
       "      <td>194.90</td>\n",
       "      <td>195.37</td>\n",
       "      <td>1688838</td>\n",
       "      <td>3.299437e+08</td>\n",
       "      <td>12741</td>\n",
       "      <td>654094</td>\n",
       "      <td>38.73</td>\n",
       "      <td>198.064286</td>\n",
       "      <td>206.110253</td>\n",
       "      <td>190.018319</td>\n",
       "      <td>Hold Buy/ Liquidate Short</td>\n",
       "    </tr>\n",
       "    <tr>\n",
       "      <th>2017-06-06</th>\n",
       "      <td>FORTIS</td>\n",
       "      <td>EQ</td>\n",
       "      <td>194.90</td>\n",
       "      <td>195.40</td>\n",
       "      <td>195.45</td>\n",
       "      <td>189.10</td>\n",
       "      <td>190.40</td>\n",
       "      <td>191.05</td>\n",
       "      <td>192.04</td>\n",
       "      <td>3708378</td>\n",
       "      <td>7.121618e+08</td>\n",
       "      <td>17057</td>\n",
       "      <td>2344287</td>\n",
       "      <td>63.22</td>\n",
       "      <td>197.003571</td>\n",
       "      <td>204.496077</td>\n",
       "      <td>189.511066</td>\n",
       "      <td>Hold Buy/ Liquidate Short</td>\n",
       "    </tr>\n",
       "    <tr>\n",
       "      <th>2017-06-07</th>\n",
       "      <td>FORTIS</td>\n",
       "      <td>EQ</td>\n",
       "      <td>191.05</td>\n",
       "      <td>191.10</td>\n",
       "      <td>198.70</td>\n",
       "      <td>191.10</td>\n",
       "      <td>194.50</td>\n",
       "      <td>194.05</td>\n",
       "      <td>195.63</td>\n",
       "      <td>3368728</td>\n",
       "      <td>6.590180e+08</td>\n",
       "      <td>21279</td>\n",
       "      <td>1095546</td>\n",
       "      <td>32.52</td>\n",
       "      <td>196.803571</td>\n",
       "      <td>204.461394</td>\n",
       "      <td>189.145748</td>\n",
       "      <td>Hold Buy/ Liquidate Short</td>\n",
       "    </tr>\n",
       "  </tbody>\n",
       "</table>\n",
       "</div>"
      ],
      "text/plain": [
       "            Symbol Series  Prev Close  Open Price  High Price  Low Price  \\\n",
       "Date                                                                       \n",
       "2017-06-01  FORTIS     EQ      195.15      195.90      200.25     195.15   \n",
       "2017-06-02  FORTIS     EQ      198.35      200.05      201.60     191.75   \n",
       "2017-06-05  FORTIS     EQ      192.95      194.00      196.90     193.60   \n",
       "2017-06-06  FORTIS     EQ      194.90      195.40      195.45     189.10   \n",
       "2017-06-07  FORTIS     EQ      191.05      191.10      198.70     191.10   \n",
       "\n",
       "                Last Price  Close Price  Average Price  Total Traded Quantity  \\\n",
       "Date                                                                            \n",
       "2017-06-01          199.80       198.35         197.35                 837394   \n",
       "2017-06-02          193.20       192.95         195.33                2967855   \n",
       "2017-06-05          194.75       194.90         195.37                1688838   \n",
       "2017-06-06          190.40       191.05         192.04                3708378   \n",
       "2017-06-07          194.50       194.05         195.63                3368728   \n",
       "\n",
       "                Turnover  No. of Trades  Deliverable Qty  \\\n",
       "Date                                                       \n",
       "2017-06-01  1.652597e+08           6033           248194   \n",
       "2017-06-02  5.797230e+08          15457          1540619   \n",
       "2017-06-05  3.299437e+08          12741           654094   \n",
       "2017-06-06  7.121618e+08          17057          2344287   \n",
       "2017-06-07  6.590180e+08          21279          1095546   \n",
       "\n",
       "            % Dly Qt to Traded Qty     Average       +2 SD       -2 SD  \\\n",
       "Date                                                                     \n",
       "2017-06-01                   29.64  199.871429  209.101539  190.641318   \n",
       "2017-06-02                   51.91  198.992857  208.358166  189.627548   \n",
       "2017-06-05                   38.73  198.064286  206.110253  190.018319   \n",
       "2017-06-06                   63.22  197.003571  204.496077  189.511066   \n",
       "2017-06-07                   32.52  196.803571  204.461394  189.145748   \n",
       "\n",
       "                                 Call  \n",
       "Date                                   \n",
       "2017-06-01  Hold Buy/ Liquidate Short  \n",
       "2017-06-02  Hold Buy/ Liquidate Short  \n",
       "2017-06-05  Hold Buy/ Liquidate Short  \n",
       "2017-06-06  Hold Buy/ Liquidate Short  \n",
       "2017-06-07  Hold Buy/ Liquidate Short  "
      ]
     },
     "execution_count": 12,
     "metadata": {},
     "output_type": "execute_result"
    }
   ],
   "source": [
    "df['Call'] = np.nan\n",
    "df['Call'] = df['Call'].astype('str')\n",
    "\n",
    "for i in range(len(df)):\n",
    "    if df['Close Price'][i] < df['-2 SD'][i]:\n",
    "        df['Call'][i] = 'Buy'\n",
    "    elif df['Close Price'][i] > df['-2 SD'][i] and df['Close Price'][i] < df['Average'][i] :\n",
    "        df['Call'][i] = 'Hold Buy/ Liquidate Short'\n",
    "    elif df['Close Price'][i] < df['+2 SD'][i] and df['Close Price'][i] > df['Average'][i]:\n",
    "        df['Call'][i] = 'Hold Short/ Liquidate Buy'\n",
    "    elif df['Close Price'][i] > df['+2 SD'][i] :\n",
    "        df['Call'][i] = 'Short'\n",
    "    \n",
    "df.head()"
   ]
  },
  {
   "cell_type": "code",
   "execution_count": 81,
   "metadata": {},
   "outputs": [],
   "source": [
    "def accuracy(cm):\n",
    "    num = cm.trace()\n",
    "    deno = cm.sum()\n",
    "    return num/deno"
   ]
  },
  {
   "cell_type": "code",
   "execution_count": 89,
   "metadata": {},
   "outputs": [],
   "source": [
    "X = df.iloc[:,[7,-4,-3,-2]].values\n",
    "y = df.iloc[:,-1:].values\n",
    "\n",
    "from sklearn.preprocessing import LabelEncoder\n",
    "lb = LabelEncoder()\n",
    "y = lb.fit_transform(y)\n",
    "from sklearn.model_selection import train_test_split\n",
    "X_train,X_test,y_train,y_test = train_test_split(X,y,test_size =0.2,random_state = 5)\n",
    "\n",
    "from sklearn.preprocessing import StandardScaler\n",
    "sc_X = StandardScaler()\n",
    "X_train = sc_X.fit_transform(X_train)\n",
    "X_test = sc_X.transform(X_test)\n",
    "\n",
    "from sklearn.metrics import confusion_matrix"
   ]
  },
  {
   "cell_type": "code",
   "execution_count": 93,
   "metadata": {},
   "outputs": [
    {
     "name": "stdout",
     "output_type": "stream",
     "text": [
      "The accuracy of logistic model classifier is :0.9587628865979382\n"
     ]
    }
   ],
   "source": [
    "#Logistic Rergression\n",
    "\n",
    "from sklearn.linear_model import LogisticRegression\n",
    "classifer_logi = LogisticRegression(random_state = 5)\n",
    "classifer_logi.fit(X_train,y_train)\n",
    "\n",
    "y_pred_logi = classifer_logi.predict(X_test)\n",
    "\n",
    "cm_logi = confusion_matrix(y_test,y_pred_logi)\n",
    "print(\"The accuracy of logistic model classifier is :\" + str(accuracy(cm_logi)))"
   ]
  },
  {
   "cell_type": "code",
   "execution_count": 94,
   "metadata": {},
   "outputs": [
    {
     "name": "stdout",
     "output_type": "stream",
     "text": [
      "The accuracy of logistic model classifier is :0.9278350515463918\n"
     ]
    }
   ],
   "source": [
    "# KNN\n",
    "\n",
    "from sklearn.neighbors import KNeighborsClassifier\n",
    "classifer_KNN = KNeighborsClassifier(n_neighbors = 3)\n",
    "classifer_KNN.fit(X_train,y_train)\n",
    "\n",
    "y_pred_KNN = classifer_KNN.predict(X_test)\n",
    "\n",
    "cm_KNN = confusion_matrix(y_test,y_pred_KNN)\n",
    "print(\"The accuracy of logistic model classifier is :\" + str(accuracy(cm_KNN)))"
   ]
  },
  {
   "cell_type": "code",
   "execution_count": 95,
   "metadata": {},
   "outputs": [
    {
     "name": "stdout",
     "output_type": "stream",
     "text": [
      "The accuracy of logistic model classifier is :0.9484536082474226\n"
     ]
    }
   ],
   "source": [
    "# Kernel SVM\n",
    "from sklearn.svm import SVC\n",
    "classifer_kSVC = SVC(kernel='rbf', random_state = 5)\n",
    "classifer_kSVC.fit(X_train,y_train)\n",
    "\n",
    "y_pred_kSVC = classifer_kSVC.predict(X_test)\n",
    "\n",
    "cm_kSVC = confusion_matrix(y_test,y_pred_kSVC)\n",
    "print(\"The accuracy of logistic model classifier is :\" + str(accuracy(cm_kSVC)))"
   ]
  },
  {
   "cell_type": "code",
   "execution_count": 96,
   "metadata": {},
   "outputs": [
    {
     "name": "stdout",
     "output_type": "stream",
     "text": [
      "The accuracy of logistic model classifier is :0.4948453608247423\n"
     ]
    }
   ],
   "source": [
    "# Naive Bayes\n",
    "from sklearn.naive_bayes import GaussianNB\n",
    "classifer_NB = GaussianNB()\n",
    "classifer_NB.fit(X_train,y_train)\n",
    "\n",
    "y_pred_NB = classifer_NB.predict(X_test)\n",
    "\n",
    "cm_NB = confusion_matrix(y_test,y_pred_NB)\n",
    "print(\"The accuracy of logistic model classifier is :\" + str(accuracy(cm_NB)))"
   ]
  },
  {
   "cell_type": "code",
   "execution_count": 97,
   "metadata": {},
   "outputs": [
    {
     "name": "stdout",
     "output_type": "stream",
     "text": [
      "The accuracy of logistic model classifier is :0.8762886597938144\n"
     ]
    }
   ],
   "source": [
    "# Decision Tree\n",
    "from sklearn.tree import DecisionTreeClassifier\n",
    "classifer_DT = DecisionTreeClassifier()\n",
    "classifer_DT.fit(X_train,y_train)\n",
    "\n",
    "y_pred_DT = classifer_DT.predict(X_test)\n",
    "\n",
    "cm_DT = confusion_matrix(y_test,y_pred_DT)\n",
    "print(\"The accuracy of logistic model classifier is :\" + str(accuracy(cm_DT)))"
   ]
  },
  {
   "cell_type": "code",
   "execution_count": 92,
   "metadata": {},
   "outputs": [
    {
     "name": "stdout",
     "output_type": "stream",
     "text": [
      "The accuracy of logistic model classifier is :0.9484536082474226\n"
     ]
    }
   ],
   "source": [
    "# Random Forest\n",
    "from sklearn.ensemble import RandomForestClassifier\n",
    "classifer_RF = RandomForestClassifier()\n",
    "classifer_RF.fit(X_train,y_train)\n",
    "\n",
    "y_pred_RF = classifer_RF.predict(X_test)\n",
    "\n",
    "cm_RF = confusion_matrix(y_test,y_pred_RF)\n",
    "print(\"The accuracy of logistic model classifier is :\" + str(accuracy(cm_RF)))"
   ]
  },
  {
   "cell_type": "markdown",
   "metadata": {},
   "source": [
    "Now, we'll again utilize classification to make a trade call, and measure the efficiency of our trading algorithm over the past two years. For this assignment , we will use RandomForest classifier.\n",
    "* Import the stock data file of your choice\n",
    "  Define 4 new columns , whose values are: \n",
    "  % change between Open and Close price for the day \n",
    "  % change between Low and High price for the day \n",
    "  5 day rolling mean of the day to day % change in Close Price \n",
    "  5 day rolling std of the day to day % change in Close Price\n",
    "* Create a new column 'Action' whose values are: \n",
    "  1 if next day's price(Close) is greater than present day's. \n",
    "  (-1) if next day's price(Close) is less than present day's. \n",
    "  i.e. Action [ i ] = 1 if Close[ i+1 ] > Close[ i ] \n",
    "  i.e. Action [ i ] = (-1) if Close[ i+1 ] < Close[ i ]\n",
    "* Construct a classification model with the 4 new inputs and 'Action' as target\n",
    "* Check the accuracy of this model , also , plot the net cumulative returns (in %) if we were to follow this algorithmic model"
   ]
  },
  {
   "cell_type": "code",
   "execution_count": null,
   "metadata": {},
   "outputs": [],
   "source": []
  },
  {
   "cell_type": "code",
   "execution_count": null,
   "metadata": {},
   "outputs": [],
   "source": []
  },
  {
   "cell_type": "code",
   "execution_count": 30,
   "metadata": {},
   "outputs": [
    {
     "data": {
      "text/plain": [
       "97"
      ]
     },
     "execution_count": 30,
     "metadata": {},
     "output_type": "execute_result"
    }
   ],
   "source": [
    "len(y_test)"
   ]
  },
  {
   "cell_type": "code",
   "execution_count": 34,
   "metadata": {},
   "outputs": [
    {
     "name": "stdout",
     "output_type": "stream",
     "text": [
      "(4, 4)\n"
     ]
    }
   ],
   "source": [
    "print(cm.shape)"
   ]
  },
  {
   "cell_type": "code",
   "execution_count": 78,
   "metadata": {},
   "outputs": [
    {
     "data": {
      "text/plain": [
       "array([[198.35      , 199.87142857, 209.10153935, 190.64131779],\n",
       "       [192.95      , 198.99285714, 208.35816605, 189.62754823],\n",
       "       [194.9       , 198.06428571, 206.11025256, 190.01831887],\n",
       "       ...,\n",
       "       [133.6       , 137.86428571, 142.78901586, 132.93955557],\n",
       "       [133.        , 137.20357143, 142.68044087, 131.72670199],\n",
       "       [131.9       , 136.43928571, 142.89376282, 129.98480861]])"
      ]
     },
     "execution_count": 78,
     "metadata": {},
     "output_type": "execute_result"
    }
   ],
   "source": [
    "X"
   ]
  },
  {
   "cell_type": "code",
   "execution_count": null,
   "metadata": {},
   "outputs": [],
   "source": []
  }
 ],
 "metadata": {
  "kernelspec": {
   "display_name": "Python 3",
   "language": "python",
   "name": "python3"
  },
  "language_info": {
   "codemirror_mode": {
    "name": "ipython",
    "version": 3
   },
   "file_extension": ".py",
   "mimetype": "text/x-python",
   "name": "python",
   "nbconvert_exporter": "python",
   "pygments_lexer": "ipython3",
   "version": "3.7.3"
  }
 },
 "nbformat": 4,
 "nbformat_minor": 2
}
