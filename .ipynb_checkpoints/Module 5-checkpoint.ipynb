{
 "cells": [
  {
   "cell_type": "markdown",
   "metadata": {},
   "source": [
    "# Module 5"
   ]
  },
  {
   "cell_type": "markdown",
   "metadata": {},
   "source": [
    "### Query 5.1 \n",
    "For your chosen stock, calculate the mean daily return and daily standard deviation of returns, and then just annualise them to get mean expected annual return and volatility of that single stock. ( annual mean = daily mean * 252 , annual stdev = daily stdev * sqrt(252) )"
   ]
  },
  {
   "cell_type": "code",
   "execution_count": 2,
   "metadata": {},
   "outputs": [],
   "source": [
    "import seaborn as sns\n",
    "import numpy as np\n",
    "import pandas as pd\n",
    "import matplotlib.pyplot as plt\n",
    "import datetime as dt\n",
    "import warnings\n",
    "warnings.filterwarnings('ignore')\n",
    "%matplotlib notebook"
   ]
  },
  {
   "cell_type": "code",
   "execution_count": 18,
   "metadata": {},
   "outputs": [
    {
     "data": {
      "text/html": [
       "<div>\n",
       "<style scoped>\n",
       "    .dataframe tbody tr th:only-of-type {\n",
       "        vertical-align: middle;\n",
       "    }\n",
       "\n",
       "    .dataframe tbody tr th {\n",
       "        vertical-align: top;\n",
       "    }\n",
       "\n",
       "    .dataframe thead th {\n",
       "        text-align: right;\n",
       "    }\n",
       "</style>\n",
       "<table border=\"1\" class=\"dataframe\">\n",
       "  <thead>\n",
       "    <tr style=\"text-align: right;\">\n",
       "      <th></th>\n",
       "      <th>Symbol</th>\n",
       "      <th>Prev Close</th>\n",
       "      <th>Open Price</th>\n",
       "      <th>High Price</th>\n",
       "      <th>Low Price</th>\n",
       "      <th>Last Price</th>\n",
       "      <th>Close Price</th>\n",
       "      <th>Average Price</th>\n",
       "      <th>Total Traded Quantity</th>\n",
       "      <th>Turnover</th>\n",
       "      <th>No. of Trades</th>\n",
       "      <th>Deliverable Qty</th>\n",
       "      <th>% Dly Qt to Traded Qty</th>\n",
       "    </tr>\n",
       "    <tr>\n",
       "      <th>Date</th>\n",
       "      <th></th>\n",
       "      <th></th>\n",
       "      <th></th>\n",
       "      <th></th>\n",
       "      <th></th>\n",
       "      <th></th>\n",
       "      <th></th>\n",
       "      <th></th>\n",
       "      <th></th>\n",
       "      <th></th>\n",
       "      <th></th>\n",
       "      <th></th>\n",
       "      <th></th>\n",
       "    </tr>\n",
       "  </thead>\n",
       "  <tbody>\n",
       "    <tr>\n",
       "      <th>2017-05-15</th>\n",
       "      <td>IDFC</td>\n",
       "      <td>63.35</td>\n",
       "      <td>63.95</td>\n",
       "      <td>64.35</td>\n",
       "      <td>63.25</td>\n",
       "      <td>63.65</td>\n",
       "      <td>63.70</td>\n",
       "      <td>63.74</td>\n",
       "      <td>2754130</td>\n",
       "      <td>1.755433e+08</td>\n",
       "      <td>10529</td>\n",
       "      <td>1119918</td>\n",
       "      <td>40.66</td>\n",
       "    </tr>\n",
       "    <tr>\n",
       "      <th>2017-05-16</th>\n",
       "      <td>IDFC</td>\n",
       "      <td>63.70</td>\n",
       "      <td>64.00</td>\n",
       "      <td>64.60</td>\n",
       "      <td>62.90</td>\n",
       "      <td>64.55</td>\n",
       "      <td>64.25</td>\n",
       "      <td>63.80</td>\n",
       "      <td>4014549</td>\n",
       "      <td>2.561355e+08</td>\n",
       "      <td>12172</td>\n",
       "      <td>1694524</td>\n",
       "      <td>42.21</td>\n",
       "    </tr>\n",
       "    <tr>\n",
       "      <th>2017-05-17</th>\n",
       "      <td>IDFC</td>\n",
       "      <td>64.25</td>\n",
       "      <td>64.65</td>\n",
       "      <td>64.65</td>\n",
       "      <td>63.25</td>\n",
       "      <td>63.25</td>\n",
       "      <td>63.35</td>\n",
       "      <td>63.58</td>\n",
       "      <td>4184709</td>\n",
       "      <td>2.660487e+08</td>\n",
       "      <td>6189</td>\n",
       "      <td>2802239</td>\n",
       "      <td>66.96</td>\n",
       "    </tr>\n",
       "    <tr>\n",
       "      <th>2017-05-18</th>\n",
       "      <td>IDFC</td>\n",
       "      <td>63.35</td>\n",
       "      <td>62.40</td>\n",
       "      <td>62.60</td>\n",
       "      <td>61.20</td>\n",
       "      <td>61.35</td>\n",
       "      <td>61.50</td>\n",
       "      <td>61.85</td>\n",
       "      <td>6040654</td>\n",
       "      <td>3.736229e+08</td>\n",
       "      <td>14151</td>\n",
       "      <td>2475921</td>\n",
       "      <td>40.99</td>\n",
       "    </tr>\n",
       "    <tr>\n",
       "      <th>2017-05-19</th>\n",
       "      <td>IDFC</td>\n",
       "      <td>61.50</td>\n",
       "      <td>61.85</td>\n",
       "      <td>62.30</td>\n",
       "      <td>60.30</td>\n",
       "      <td>61.00</td>\n",
       "      <td>61.15</td>\n",
       "      <td>61.20</td>\n",
       "      <td>3697284</td>\n",
       "      <td>2.262721e+08</td>\n",
       "      <td>7537</td>\n",
       "      <td>1711047</td>\n",
       "      <td>46.28</td>\n",
       "    </tr>\n",
       "  </tbody>\n",
       "</table>\n",
       "</div>"
      ],
      "text/plain": [
       "           Symbol  Prev Close  Open Price  High Price  Low Price  Last Price  \\\n",
       "Date                                                                           \n",
       "2017-05-15   IDFC       63.35       63.95       64.35      63.25       63.65   \n",
       "2017-05-16   IDFC       63.70       64.00       64.60      62.90       64.55   \n",
       "2017-05-17   IDFC       64.25       64.65       64.65      63.25       63.25   \n",
       "2017-05-18   IDFC       63.35       62.40       62.60      61.20       61.35   \n",
       "2017-05-19   IDFC       61.50       61.85       62.30      60.30       61.00   \n",
       "\n",
       "            Close Price  Average Price  Total Traded Quantity      Turnover  \\\n",
       "Date                                                                          \n",
       "2017-05-15        63.70          63.74                2754130  1.755433e+08   \n",
       "2017-05-16        64.25          63.80                4014549  2.561355e+08   \n",
       "2017-05-17        63.35          63.58                4184709  2.660487e+08   \n",
       "2017-05-18        61.50          61.85                6040654  3.736229e+08   \n",
       "2017-05-19        61.15          61.20                3697284  2.262721e+08   \n",
       "\n",
       "            No. of Trades  Deliverable Qty  % Dly Qt to Traded Qty  \n",
       "Date                                                                \n",
       "2017-05-15          10529          1119918                   40.66  \n",
       "2017-05-16          12172          1694524                   42.21  \n",
       "2017-05-17           6189          2802239                   66.96  \n",
       "2017-05-18          14151          2475921                   40.99  \n",
       "2017-05-19           7537          1711047                   46.28  "
      ]
     },
     "execution_count": 18,
     "metadata": {},
     "output_type": "execute_result"
    }
   ],
   "source": [
    "df = pd.read_csv('Small_Cap/IDFC.csv')\n",
    "df['Date'] = df['Date'].astype('datetime64')\n",
    "df = df[df.Series == 'EQ']\n",
    "df.set_index('Date',inplace = True)\n",
    "df.drop(['Series'],axis = 1,inplace = True)\n",
    "df.head()"
   ]
  },
  {
   "cell_type": "code",
   "execution_count": 22,
   "metadata": {},
   "outputs": [],
   "source": [
    "df['Daily Pct Change'] = df['Close Price'].pct_change()*100\n",
    "\n",
    "daily_mean = df['Daily Pct Change'].mean()\n",
    "daily_std = df['Daily Pct Change'].std()\n",
    "\n",
    "annual_mean_return = round(daily_mean*252,2)\n",
    "annual_std = round(daily_std*np.sqrt(252),2)"
   ]
  },
  {
   "cell_type": "code",
   "execution_count": 23,
   "metadata": {},
   "outputs": [
    {
     "name": "stdout",
     "output_type": "stream",
     "text": [
      "The annual return is: -24.55\n",
      "The annual standard deviation is: 35.93\n"
     ]
    }
   ],
   "source": [
    "print(\"The annual return is: \" + str(annual_mean_return))\n",
    "print(\"The annual standard deviation is: \" + str(annual_std))"
   ]
  },
  {
   "cell_type": "markdown",
   "metadata": {},
   "source": [
    "### Query 5.2 \n",
    "Now, we need to diversify our portfolio. Build your own portfolio by choosing any 5 stocks, preferably of different sectors and different caps. Assume that all 5 have the same weightage, i.e. 20% . Now calculate the annual returns and volatility of the entire portfolio ( Hint : Don't forget to use the covariance )"
   ]
  },
  {
   "cell_type": "code",
   "execution_count": null,
   "metadata": {},
   "outputs": [],
   "source": []
  },
  {
   "cell_type": "code",
   "execution_count": null,
   "metadata": {},
   "outputs": [],
   "source": []
  },
  {
   "cell_type": "code",
   "execution_count": null,
   "metadata": {},
   "outputs": [],
   "source": []
  },
  {
   "cell_type": "markdown",
   "metadata": {},
   "source": [
    "### Query 5.3 \n",
    "Prepare a scatter plot for differing weights of the individual stocks in the portfolio , the axes being the returns and volatility. Colour the data points based on the Sharpe Ratio ( Returns/Volatility) of that particular portfolio."
   ]
  },
  {
   "cell_type": "markdown",
   "metadata": {},
   "source": [
    "### Query 5.4 \n",
    "Mark the 2 portfolios where -<br>\n",
    "Portfolio 1 - The Sharpe ratio is the highest<br>\n",
    "Portfolio 2 - The volatility is the lowest. "
   ]
  },
  {
   "cell_type": "code",
   "execution_count": null,
   "metadata": {},
   "outputs": [],
   "source": []
  }
 ],
 "metadata": {
  "kernelspec": {
   "display_name": "Python 3",
   "language": "python",
   "name": "python3"
  },
  "language_info": {
   "codemirror_mode": {
    "name": "ipython",
    "version": 3
   },
   "file_extension": ".py",
   "mimetype": "text/x-python",
   "name": "python",
   "nbconvert_exporter": "python",
   "pygments_lexer": "ipython3",
   "version": "3.7.3"
  }
 },
 "nbformat": 4,
 "nbformat_minor": 2
}
