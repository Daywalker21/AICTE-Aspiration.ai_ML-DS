{
 "cells": [
  {
   "cell_type": "markdown",
   "metadata": {},
   "source": [
    "# Module 3"
   ]
  },
  {
   "cell_type": "markdown",
   "metadata": {},
   "source": [
    "### Query 3.1\n",
    "Import the file 'gold.csv' (you will find this in the intro section to download or in '/Data/gold.csv' if you are using the jupyter notebook), which contains the data of the last 2 years price action of Indian (MCX) gold standard. Explore the dataframe. You'd see 2 unique columns - 'Pred' and 'new'. One of the 2 columns is a linear combination of the OHLC prices with varying coefficients while the other is a polynomial function of the same inputs. Also, one of the 2 columns is partially filled.\n",
    "* Using linear regression, find the coefficients of the inputs and using the same trained model, complete the entire column.\n",
    "* Also, try to fit the other column as well using a new linear regression model. Check if the predictions are accurate. Mention which column is a linear function and which is polynomial.\n",
    "(Hint: Plotting a histogram & distplot helps in recognizing the discrepencies in prediction, if any.)"
   ]
  },
  {
   "cell_type": "code",
   "execution_count": 1,
   "metadata": {},
   "outputs": [],
   "source": [
    "import seaborn as sns\n",
    "import numpy as np\n",
    "import pandas as pd\n",
    "import matplotlib.pyplot as plt\n",
    "import datetime as dt\n",
    "import warnings\n",
    "warnings.filterwarnings('ignore')\n",
    "%matplotlib notebook"
   ]
  },
  {
   "cell_type": "code",
   "execution_count": 2,
   "metadata": {},
   "outputs": [],
   "source": [
    "dataset = pd.read_csv(\"GOLD.csv\")"
   ]
  },
  {
   "cell_type": "code",
   "execution_count": 3,
   "metadata": {},
   "outputs": [
    {
     "data": {
      "text/html": [
       "<div>\n",
       "<style scoped>\n",
       "    .dataframe tbody tr th:only-of-type {\n",
       "        vertical-align: middle;\n",
       "    }\n",
       "\n",
       "    .dataframe tbody tr th {\n",
       "        vertical-align: top;\n",
       "    }\n",
       "\n",
       "    .dataframe thead th {\n",
       "        text-align: right;\n",
       "    }\n",
       "</style>\n",
       "<table border=\"1\" class=\"dataframe\">\n",
       "  <thead>\n",
       "    <tr style=\"text-align: right;\">\n",
       "      <th></th>\n",
       "      <th>Price</th>\n",
       "      <th>Open</th>\n",
       "      <th>High</th>\n",
       "      <th>Low</th>\n",
       "      <th>Vol.</th>\n",
       "      <th>Change %</th>\n",
       "      <th>Pred</th>\n",
       "      <th>new</th>\n",
       "    </tr>\n",
       "    <tr>\n",
       "      <th>Date</th>\n",
       "      <th></th>\n",
       "      <th></th>\n",
       "      <th></th>\n",
       "      <th></th>\n",
       "      <th></th>\n",
       "      <th></th>\n",
       "      <th></th>\n",
       "      <th></th>\n",
       "    </tr>\n",
       "  </thead>\n",
       "  <tbody>\n",
       "    <tr>\n",
       "      <th>May 04, 2017</th>\n",
       "      <td>28060</td>\n",
       "      <td>28400</td>\n",
       "      <td>28482</td>\n",
       "      <td>28025</td>\n",
       "      <td>0.08K</td>\n",
       "      <td>-1.79%</td>\n",
       "      <td>738.0</td>\n",
       "      <td>117.570740</td>\n",
       "    </tr>\n",
       "    <tr>\n",
       "      <th>May 05, 2017</th>\n",
       "      <td>28184</td>\n",
       "      <td>28136</td>\n",
       "      <td>28382</td>\n",
       "      <td>28135</td>\n",
       "      <td>0.06K</td>\n",
       "      <td>0.44%</td>\n",
       "      <td>-146.0</td>\n",
       "      <td>295.430176</td>\n",
       "    </tr>\n",
       "    <tr>\n",
       "      <th>May 08, 2017</th>\n",
       "      <td>28119</td>\n",
       "      <td>28145</td>\n",
       "      <td>28255</td>\n",
       "      <td>28097</td>\n",
       "      <td>7.85K</td>\n",
       "      <td>-0.23%</td>\n",
       "      <td>30.0</td>\n",
       "      <td>132.123714</td>\n",
       "    </tr>\n",
       "    <tr>\n",
       "      <th>May 09, 2017</th>\n",
       "      <td>27981</td>\n",
       "      <td>28125</td>\n",
       "      <td>28192</td>\n",
       "      <td>27947</td>\n",
       "      <td>10.10K</td>\n",
       "      <td>-0.49%</td>\n",
       "      <td>357.0</td>\n",
       "      <td>101.298064</td>\n",
       "    </tr>\n",
       "    <tr>\n",
       "      <th>May 10, 2017</th>\n",
       "      <td>28007</td>\n",
       "      <td>28060</td>\n",
       "      <td>28146</td>\n",
       "      <td>27981</td>\n",
       "      <td>9.28K</td>\n",
       "      <td>0.09%</td>\n",
       "      <td>124.0</td>\n",
       "      <td>112.153318</td>\n",
       "    </tr>\n",
       "  </tbody>\n",
       "</table>\n",
       "</div>"
      ],
      "text/plain": [
       "              Price   Open   High    Low    Vol. Change %   Pred         new\n",
       "Date                                                                        \n",
       "May 04, 2017  28060  28400  28482  28025   0.08K   -1.79%  738.0  117.570740\n",
       "May 05, 2017  28184  28136  28382  28135   0.06K    0.44% -146.0  295.430176\n",
       "May 08, 2017  28119  28145  28255  28097   7.85K   -0.23%   30.0  132.123714\n",
       "May 09, 2017  27981  28125  28192  27947  10.10K   -0.49%  357.0  101.298064\n",
       "May 10, 2017  28007  28060  28146  27981   9.28K    0.09%  124.0  112.153318"
      ]
     },
     "execution_count": 3,
     "metadata": {},
     "output_type": "execute_result"
    }
   ],
   "source": [
    "dataset.Date.astype('datetime64')\n",
    "dataset.set_index('Date',inplace = True)\n",
    "dataset.head()"
   ]
  },
  {
   "cell_type": "code",
   "execution_count": 4,
   "metadata": {},
   "outputs": [],
   "source": [
    "#For Pred Column\n",
    "X_Pred = dataset.iloc[:,:4]\n",
    "y_Pred = dataset.iloc[:,-2]\n",
    "y_Pred = y_Pred.dropna()\n",
    "len_pred = len(y_Pred)"
   ]
  },
  {
   "cell_type": "code",
   "execution_count": 5,
   "metadata": {},
   "outputs": [],
   "source": [
    "val = int(len_pred/2)\n",
    "X_train = X_Pred[:val]\n",
    "X_test = X_Pred[val : len_pred]\n",
    "\n",
    "y_train = y_Pred[:val]\n",
    "y_test = y_Pred[val:len_pred]\n",
    "\n",
    "X_val_pred = X_Pred[len_pred:]"
   ]
  },
  {
   "cell_type": "code",
   "execution_count": 6,
   "metadata": {},
   "outputs": [],
   "source": [
    "from sklearn.linear_model import LinearRegression\n",
    "model_pred = LinearRegression()\n",
    "model_pred.fit(X_train,y_train)\n",
    "y_calc = model_pred.predict(X_test)"
   ]
  },
  {
   "cell_type": "code",
   "execution_count": 7,
   "metadata": {},
   "outputs": [
    {
     "data": {
      "text/plain": [
       "1.0"
      ]
     },
     "execution_count": 7,
     "metadata": {},
     "output_type": "execute_result"
    }
   ],
   "source": [
    "from sklearn.metrics import r2_score\n",
    "r2_score(y_test,y_calc)"
   ]
  },
  {
   "cell_type": "code",
   "execution_count": 8,
   "metadata": {},
   "outputs": [],
   "source": [
    "#For new column\n",
    "X_new = dataset.iloc[:,:4]\n",
    "y_new = dataset.iloc[:,-1]\n",
    "len_new = len(y_new)"
   ]
  },
  {
   "cell_type": "code",
   "execution_count": 9,
   "metadata": {},
   "outputs": [],
   "source": [
    "val = int(len_new/2)\n",
    "X_train = X_new[:val]\n",
    "X_test = X_new[val : len_new]\n",
    "\n",
    "y_train = y_new[:val]\n",
    "y_test = y_new[val:len_new]\n",
    "\n",
    "X_val_new = X_new[len_new:]"
   ]
  },
  {
   "cell_type": "code",
   "execution_count": 10,
   "metadata": {},
   "outputs": [],
   "source": [
    "model_new = LinearRegression()\n",
    "model_new.fit(X_train,y_train)\n",
    "y_pred_new = model_new.predict(X_test)"
   ]
  },
  {
   "cell_type": "code",
   "execution_count": 11,
   "metadata": {},
   "outputs": [
    {
     "data": {
      "text/plain": [
       "0.9999830622110687"
      ]
     },
     "execution_count": 11,
     "metadata": {},
     "output_type": "execute_result"
    }
   ],
   "source": [
    "r2_score(y_test,y_pred_new)"
   ]
  },
  {
   "cell_type": "code",
   "execution_count": 12,
   "metadata": {},
   "outputs": [
    {
     "name": "stdout",
     "output_type": "stream",
     "text": [
      "Since r2 score of the pred column is greater than the score of new column,therefore it is linearly dependent with OHLC and new is polynomial function of OHLC\n"
     ]
    }
   ],
   "source": [
    "print(\"Since r2 score of the pred column is greater than the score of new column,therefore it is linearly dependent\" \n",
    "\" with OHLC and new is polynomial function of OHLC\")"
   ]
  },
  {
   "cell_type": "code",
   "execution_count": 13,
   "metadata": {},
   "outputs": [],
   "source": [
    "y_pred = model_pred.predict(X_val_pred)\n",
    "dataset['Pred'][len_pred:] = y_pred"
   ]
  },
  {
   "cell_type": "markdown",
   "metadata": {},
   "source": [
    "CAPM CAPM Analysis and Beta Calculation using regression - <br>\n",
    "CAPM(Capital Asset Pricing Model) attempts to price securities by examining the relationship that exists between expected returns and risk. \n",
    "Read more about CAPM. (Investopedia CAPM reference) \n",
    "The Beta of an asset is a measure of the sensitivity of its returns relative to a market benchmark (usually a market index). How sensitive/insensitive is the returns of an asset to the overall market returns (usually a market index like S&P 500 index). What happens when the market jumps, does the returns of the asset jump accordingly or jump somehow? \n",
    "Read more about Beta (Investopedia Beta reference)\n"
   ]
  },
  {
   "cell_type": "markdown",
   "metadata": {},
   "source": [
    "### Query3.2\n",
    "Import the stock of your choosing AND the Nifty index. \n",
    "Using linear regression (OLS), calculate -\n",
    "* The daily Beta value for the past 3 months. (Daily= Daily returns)\n",
    "* The monthly Beta value. (Monthly= Monthly returns)<p>\n",
    "Refrain from using the (covariance(x,y)/variance(x)) formula.\n",
    "Attempt the question using regression.(Regression Reference) <br>\n",
    "Were the Beta values more or less than 1 ? What if it was negative ? \n",
    "Discuss. Include a brief writeup in the bottom of your jupyter notebook with your inferences from the Beta values and regression results\n"
   ]
  },
  {
   "cell_type": "code",
   "execution_count": 40,
   "metadata": {},
   "outputs": [],
   "source": [
    "Nifty_df = pd.read_csv('Nifty50/Nifty50.csv')\n",
    "NCC_df = pd.read_csv('Small_Cap/NCC.csv')\n",
    "\n",
    "NCC_df = NCC_df[NCC_df.Series == 'EQ']\n",
    "\n",
    "NCC_df['Date'] = NCC_df['Date'].astype('datetime64')\n",
    "Nifty_df['Date'] = Nifty_df['Date'].astype('datetime64')\n",
    "\n",
    "NCC_df.set_index('Date',inplace = True)\n",
    "Nifty_df.set_index('Date',inplace = True)\n",
    "\n",
    "NCC_df['Day_Precentage_Change'] = NCC_df['Close Price'].pct_change()\n",
    "Nifty_df['Day_Precentage_Change'] = Nifty_df['Close'].pct_change()\n",
    "\n",
    "NCC_df.dropna(inplace = True)\n",
    "Nifty_df.dropna(inplace = True)"
   ]
  },
  {
   "cell_type": "code",
   "execution_count": 50,
   "metadata": {},
   "outputs": [
    {
     "data": {
      "text/plain": [
       "LinearRegression(copy_X=True, fit_intercept=True, n_jobs=None,\n",
       "         normalize=False)"
      ]
     },
     "execution_count": 50,
     "metadata": {},
     "output_type": "execute_result"
    }
   ],
   "source": [
    "X = Nifty_df.iloc[-90:,-1:]\n",
    "y = NCC_df.iloc[-90:,-1:]\n",
    "model_beta = LinearRegression()\n",
    "model_beta.fit(X,y)"
   ]
  },
  {
   "cell_type": "code",
   "execution_count": 54,
   "metadata": {},
   "outputs": [
    {
     "ename": "AttributeError",
     "evalue": "'LinearRegression' object has no attribute 'plot'",
     "output_type": "error",
     "traceback": [
      "\u001b[0;31m---------------------------------------------------------------------------\u001b[0m",
      "\u001b[0;31mAttributeError\u001b[0m                            Traceback (most recent call last)",
      "\u001b[0;32m<ipython-input-54-15c42e0709f7>\u001b[0m in \u001b[0;36m<module>\u001b[0;34m\u001b[0m\n\u001b[1;32m      1\u001b[0m \u001b[0mplt\u001b[0m\u001b[0;34m.\u001b[0m\u001b[0mfigure\u001b[0m\u001b[0;34m(\u001b[0m\u001b[0;34m)\u001b[0m\u001b[0;34m\u001b[0m\u001b[0;34m\u001b[0m\u001b[0m\n\u001b[1;32m      2\u001b[0m \u001b[0mplt\u001b[0m\u001b[0;34m.\u001b[0m\u001b[0mscatter\u001b[0m\u001b[0;34m(\u001b[0m\u001b[0mX\u001b[0m\u001b[0;34m,\u001b[0m\u001b[0my\u001b[0m\u001b[0;34m)\u001b[0m\u001b[0;34m\u001b[0m\u001b[0;34m\u001b[0m\u001b[0m\n\u001b[0;32m----> 3\u001b[0;31m \u001b[0mmodel_beta\u001b[0m\u001b[0;34m.\u001b[0m\u001b[0mplot\u001b[0m\u001b[0;34m(\u001b[0m\u001b[0;34m)\u001b[0m\u001b[0;34m\u001b[0m\u001b[0;34m\u001b[0m\u001b[0m\n\u001b[0m\u001b[1;32m      4\u001b[0m \u001b[0mplt\u001b[0m\u001b[0;34m.\u001b[0m\u001b[0mshow\u001b[0m\u001b[0;34m(\u001b[0m\u001b[0;34m)\u001b[0m\u001b[0;34m\u001b[0m\u001b[0;34m\u001b[0m\u001b[0m\n",
      "\u001b[0;31mAttributeError\u001b[0m: 'LinearRegression' object has no attribute 'plot'"
     ]
    },
    {
     "data": {
      "image/png": "[encoded data removed]",
      "text/plain": [
       "<Figure size 432x288 with 1 Axes>"
      ]
     },
     "metadata": {
      "needs_background": "light"
     },
     "output_type": "display_data"
    }
   ],
   "source": [
    "plt.figure()\n",
    "plt.scatter(X,y)\n",
    "model_beta.plot()\n",
    "plt.show()"
   ]
  },
  {
   "cell_type": "code",
   "execution_count": 34,
   "metadata": {},
   "outputs": [
    {
     "data": {
      "text/html": [
       "<div>\n",
       "<style scoped>\n",
       "    .dataframe tbody tr th:only-of-type {\n",
       "        vertical-align: middle;\n",
       "    }\n",
       "\n",
       "    .dataframe tbody tr th {\n",
       "        vertical-align: top;\n",
       "    }\n",
       "\n",
       "    .dataframe thead th {\n",
       "        text-align: right;\n",
       "    }\n",
       "</style>\n",
       "<table border=\"1\" class=\"dataframe\">\n",
       "  <thead>\n",
       "    <tr style=\"text-align: right;\">\n",
       "      <th></th>\n",
       "      <th>Symbol</th>\n",
       "      <th>Series</th>\n",
       "      <th>Prev Close</th>\n",
       "      <th>Open Price</th>\n",
       "      <th>High Price</th>\n",
       "      <th>Low Price</th>\n",
       "      <th>Last Price</th>\n",
       "      <th>Close Price</th>\n",
       "      <th>Average Price</th>\n",
       "      <th>Total Traded Quantity</th>\n",
       "      <th>Turnover</th>\n",
       "      <th>No. of Trades</th>\n",
       "      <th>Deliverable Qty</th>\n",
       "      <th>% Dly Qt to Traded Qty</th>\n",
       "      <th>Day Precentage Change</th>\n",
       "    </tr>\n",
       "    <tr>\n",
       "      <th>Date</th>\n",
       "      <th></th>\n",
       "      <th></th>\n",
       "      <th></th>\n",
       "      <th></th>\n",
       "      <th></th>\n",
       "      <th></th>\n",
       "      <th></th>\n",
       "      <th></th>\n",
       "      <th></th>\n",
       "      <th></th>\n",
       "      <th></th>\n",
       "      <th></th>\n",
       "      <th></th>\n",
       "      <th></th>\n",
       "      <th></th>\n",
       "    </tr>\n",
       "  </thead>\n",
       "  <tbody>\n",
       "    <tr>\n",
       "      <th>2017-05-16</th>\n",
       "      <td>NCC</td>\n",
       "      <td>EQ</td>\n",
       "      <td>97.35</td>\n",
       "      <td>98.15</td>\n",
       "      <td>100.80</td>\n",
       "      <td>97.10</td>\n",
       "      <td>100.60</td>\n",
       "      <td>100.40</td>\n",
       "      <td>99.01</td>\n",
       "      <td>8251673</td>\n",
       "      <td>8.170074e+08</td>\n",
       "      <td>28908</td>\n",
       "      <td>2698728</td>\n",
       "      <td>32.71</td>\n",
       "      <td>0.031330</td>\n",
       "    </tr>\n",
       "    <tr>\n",
       "      <th>2017-05-17</th>\n",
       "      <td>NCC</td>\n",
       "      <td>EQ</td>\n",
       "      <td>100.40</td>\n",
       "      <td>100.95</td>\n",
       "      <td>103.65</td>\n",
       "      <td>100.10</td>\n",
       "      <td>101.35</td>\n",
       "      <td>101.45</td>\n",
       "      <td>102.05</td>\n",
       "      <td>9866001</td>\n",
       "      <td>1.006803e+09</td>\n",
       "      <td>40313</td>\n",
       "      <td>3276414</td>\n",
       "      <td>33.21</td>\n",
       "      <td>0.010458</td>\n",
       "    </tr>\n",
       "    <tr>\n",
       "      <th>2017-05-18</th>\n",
       "      <td>NCC</td>\n",
       "      <td>EQ</td>\n",
       "      <td>101.45</td>\n",
       "      <td>99.80</td>\n",
       "      <td>100.85</td>\n",
       "      <td>96.55</td>\n",
       "      <td>96.90</td>\n",
       "      <td>97.00</td>\n",
       "      <td>98.80</td>\n",
       "      <td>4163676</td>\n",
       "      <td>4.113649e+08</td>\n",
       "      <td>18977</td>\n",
       "      <td>1196998</td>\n",
       "      <td>28.75</td>\n",
       "      <td>-0.043864</td>\n",
       "    </tr>\n",
       "    <tr>\n",
       "      <th>2017-05-19</th>\n",
       "      <td>NCC</td>\n",
       "      <td>EQ</td>\n",
       "      <td>97.00</td>\n",
       "      <td>97.80</td>\n",
       "      <td>99.25</td>\n",
       "      <td>94.25</td>\n",
       "      <td>95.70</td>\n",
       "      <td>95.45</td>\n",
       "      <td>96.53</td>\n",
       "      <td>3782348</td>\n",
       "      <td>3.651142e+08</td>\n",
       "      <td>19517</td>\n",
       "      <td>706203</td>\n",
       "      <td>18.67</td>\n",
       "      <td>-0.015979</td>\n",
       "    </tr>\n",
       "    <tr>\n",
       "      <th>2017-05-22</th>\n",
       "      <td>NCC</td>\n",
       "      <td>EQ</td>\n",
       "      <td>95.45</td>\n",
       "      <td>96.00</td>\n",
       "      <td>97.95</td>\n",
       "      <td>94.65</td>\n",
       "      <td>95.00</td>\n",
       "      <td>95.25</td>\n",
       "      <td>96.56</td>\n",
       "      <td>3829849</td>\n",
       "      <td>3.698111e+08</td>\n",
       "      <td>16697</td>\n",
       "      <td>1116014</td>\n",
       "      <td>29.14</td>\n",
       "      <td>-0.002095</td>\n",
       "    </tr>\n",
       "  </tbody>\n",
       "</table>\n",
       "</div>"
      ],
      "text/plain": [
       "           Symbol Series  Prev Close  Open Price  High Price  Low Price  \\\n",
       "Date                                                                      \n",
       "2017-05-16    NCC     EQ       97.35       98.15      100.80      97.10   \n",
       "2017-05-17    NCC     EQ      100.40      100.95      103.65     100.10   \n",
       "2017-05-18    NCC     EQ      101.45       99.80      100.85      96.55   \n",
       "2017-05-19    NCC     EQ       97.00       97.80       99.25      94.25   \n",
       "2017-05-22    NCC     EQ       95.45       96.00       97.95      94.65   \n",
       "\n",
       "            Last Price  Close Price  Average Price  Total Traded Quantity  \\\n",
       "Date                                                                        \n",
       "2017-05-16      100.60       100.40          99.01                8251673   \n",
       "2017-05-17      101.35       101.45         102.05                9866001   \n",
       "2017-05-18       96.90        97.00          98.80                4163676   \n",
       "2017-05-19       95.70        95.45          96.53                3782348   \n",
       "2017-05-22       95.00        95.25          96.56                3829849   \n",
       "\n",
       "                Turnover  No. of Trades  Deliverable Qty  \\\n",
       "Date                                                       \n",
       "2017-05-16  8.170074e+08          28908          2698728   \n",
       "2017-05-17  1.006803e+09          40313          3276414   \n",
       "2017-05-18  4.113649e+08          18977          1196998   \n",
       "2017-05-19  3.651142e+08          19517           706203   \n",
       "2017-05-22  3.698111e+08          16697          1116014   \n",
       "\n",
       "            % Dly Qt to Traded Qty  Day Precentage Change  \n",
       "Date                                                       \n",
       "2017-05-16                   32.71               0.031330  \n",
       "2017-05-17                   33.21               0.010458  \n",
       "2017-05-18                   28.75              -0.043864  \n",
       "2017-05-19                   18.67              -0.015979  \n",
       "2017-05-22                   29.14              -0.002095  "
      ]
     },
     "execution_count": 34,
     "metadata": {},
     "output_type": "execute_result"
    }
   ],
   "source": [
    "NCC_df.head()"
   ]
  },
  {
   "cell_type": "code",
   "execution_count": 35,
   "metadata": {},
   "outputs": [
    {
     "data": {
      "text/html": [
       "<div>\n",
       "<style scoped>\n",
       "    .dataframe tbody tr th:only-of-type {\n",
       "        vertical-align: middle;\n",
       "    }\n",
       "\n",
       "    .dataframe tbody tr th {\n",
       "        vertical-align: top;\n",
       "    }\n",
       "\n",
       "    .dataframe thead th {\n",
       "        text-align: right;\n",
       "    }\n",
       "</style>\n",
       "<table border=\"1\" class=\"dataframe\">\n",
       "  <thead>\n",
       "    <tr style=\"text-align: right;\">\n",
       "      <th></th>\n",
       "      <th>Open</th>\n",
       "      <th>High</th>\n",
       "      <th>Low</th>\n",
       "      <th>Close</th>\n",
       "      <th>Shares Traded</th>\n",
       "      <th>Turnover (Rs. Cr)</th>\n",
       "      <th>Day Precentag Change</th>\n",
       "    </tr>\n",
       "    <tr>\n",
       "      <th>Date</th>\n",
       "      <th></th>\n",
       "      <th></th>\n",
       "      <th></th>\n",
       "      <th></th>\n",
       "      <th></th>\n",
       "      <th></th>\n",
       "      <th></th>\n",
       "    </tr>\n",
       "  </thead>\n",
       "  <tbody>\n",
       "    <tr>\n",
       "      <th>2017-05-16</th>\n",
       "      <td>9461.00</td>\n",
       "      <td>9517.20</td>\n",
       "      <td>9456.35</td>\n",
       "      <td>9512.25</td>\n",
       "      <td>171709433</td>\n",
       "      <td>9209.89</td>\n",
       "      <td>0.007078</td>\n",
       "    </tr>\n",
       "    <tr>\n",
       "      <th>2017-05-17</th>\n",
       "      <td>9517.60</td>\n",
       "      <td>9532.60</td>\n",
       "      <td>9486.10</td>\n",
       "      <td>9525.75</td>\n",
       "      <td>211856040</td>\n",
       "      <td>10726.23</td>\n",
       "      <td>0.001419</td>\n",
       "    </tr>\n",
       "    <tr>\n",
       "      <th>2017-05-18</th>\n",
       "      <td>9453.20</td>\n",
       "      <td>9489.10</td>\n",
       "      <td>9418.10</td>\n",
       "      <td>9429.45</td>\n",
       "      <td>199340647</td>\n",
       "      <td>10782.46</td>\n",
       "      <td>-0.010109</td>\n",
       "    </tr>\n",
       "    <tr>\n",
       "      <th>2017-05-19</th>\n",
       "      <td>9469.90</td>\n",
       "      <td>9505.75</td>\n",
       "      <td>9390.75</td>\n",
       "      <td>9427.90</td>\n",
       "      <td>259861396</td>\n",
       "      <td>11544.77</td>\n",
       "      <td>-0.000164</td>\n",
       "    </tr>\n",
       "    <tr>\n",
       "      <th>2017-05-22</th>\n",
       "      <td>9480.25</td>\n",
       "      <td>9498.65</td>\n",
       "      <td>9427.90</td>\n",
       "      <td>9438.25</td>\n",
       "      <td>202874757</td>\n",
       "      <td>9432.97</td>\n",
       "      <td>0.001098</td>\n",
       "    </tr>\n",
       "  </tbody>\n",
       "</table>\n",
       "</div>"
      ],
      "text/plain": [
       "               Open     High      Low    Close  Shares Traded  \\\n",
       "Date                                                            \n",
       "2017-05-16  9461.00  9517.20  9456.35  9512.25      171709433   \n",
       "2017-05-17  9517.60  9532.60  9486.10  9525.75      211856040   \n",
       "2017-05-18  9453.20  9489.10  9418.10  9429.45      199340647   \n",
       "2017-05-19  9469.90  9505.75  9390.75  9427.90      259861396   \n",
       "2017-05-22  9480.25  9498.65  9427.90  9438.25      202874757   \n",
       "\n",
       "            Turnover (Rs. Cr)  Day Precentag Change  \n",
       "Date                                                 \n",
       "2017-05-16            9209.89              0.007078  \n",
       "2017-05-17           10726.23              0.001419  \n",
       "2017-05-18           10782.46             -0.010109  \n",
       "2017-05-19           11544.77             -0.000164  \n",
       "2017-05-22            9432.97              0.001098  "
      ]
     },
     "execution_count": 35,
     "metadata": {},
     "output_type": "execute_result"
    }
   ],
   "source": [
    "Nifty_df.head()"
   ]
  },
  {
   "cell_type": "code",
   "execution_count": 47,
   "metadata": {},
   "outputs": [
    {
     "data": {
      "text/plain": [
       "array([ 7.07751922e-03,  1.41922258e-03, -1.01094402e-02, -1.64378622e-04,\n",
       "        1.09780545e-03, -5.52009112e-03, -2.72742285e-03,  1.59392343e-02,\n",
       "        8.97499934e-03,  1.02135465e-03,  2.04583077e-03, -3.42873173e-04,\n",
       "       -5.35273483e-04,  3.88931064e-03,  2.23753043e-03, -3.92244008e-03,\n",
       "        2.77571689e-03, -1.72290690e-03,  2.17678613e-03, -5.36291470e-03,\n",
       "       -9.87895678e-04,  1.17103332e-03, -4.16920094e-03,  1.04405385e-03,\n",
       "        7.24860634e-03, -4.19361018e-04, -2.06142850e-03, -3.73692078e-04,\n",
       "       -5.71651090e-03, -6.63711038e-03, -2.11851042e-03,  1.35387857e-03,\n",
       "        1.76765817e-03,  9.88351942e-03, -1.76807072e-04,  2.52774802e-03,\n",
       "        3.83394206e-03, -9.04434832e-04,  1.08889073e-02,  1.53514720e-03,\n",
       "        3.07069757e-03,  7.70163303e-03, -5.40857487e-04,  2.99402712e-03,\n",
       "       -8.95526904e-03,  7.37243250e-03, -2.65667300e-03,  4.24883271e-03,\n",
       "        5.15872015e-03, -1.85623696e-04,  5.62995820e-03, -9.97939255e-06,\n",
       "       -6.03759275e-04,  6.25093614e-03,  3.72627045e-03, -3.27742433e-03,\n",
       "       -6.73014928e-03,  5.26780944e-03, -8.94063419e-04, -7.83999841e-03,\n",
       "       -7.06515476e-03, -8.86148132e-03, -1.11453374e-02,  8.58322692e-03,\n",
       "        1.05317970e-02,  6.92107949e-04, -6.73959906e-03, -8.44227133e-03,\n",
       "        1.14820567e-03,  8.90374838e-03,  4.61811723e-04,  5.65585038e-03,\n",
       "       -1.17777016e-02,  9.01894131e-03,  3.38917891e-03,  5.69677049e-03,\n",
       "       -6.17079724e-03,  3.96959502e-03, -3.61729065e-03,  1.38157762e-03,\n",
       "        4.93459149e-04,  7.17175987e-03,  8.69473968e-03, -1.36232358e-03,\n",
       "        7.24256645e-04, -1.18969722e-04,  6.71267377e-03, -5.46631078e-04,\n",
       "       -6.30694108e-04, -1.89820681e-03, -1.55603197e-02, -9.21279756e-03,\n",
       "       -1.11419484e-04, -1.37517095e-02,  3.41011222e-03,  2.01147513e-03,\n",
       "        7.24311955e-03,  5.61894619e-03, -2.64248757e-03,  9.20242297e-03,\n",
       "        9.06840887e-04,  2.82317607e-03, -3.20955980e-03,  1.11769890e-02,\n",
       "        7.03716176e-03,  6.23558513e-03,  3.51876921e-04, -2.30593730e-03,\n",
       "       -6.29722305e-03,  3.77468203e-03,  2.24352838e-03,  8.58665517e-03,\n",
       "        4.70600805e-03, -2.00603260e-03,  3.93294617e-03, -2.73552272e-03,\n",
       "        1.01787079e-02, -1.59954025e-03,  2.75331453e-03, -6.69696245e-05,\n",
       "       -9.72559750e-03, -4.54099699e-03,  5.62934636e-04,  1.24163955e-03,\n",
       "       -9.37825466e-03, -3.75062959e-03, -6.72942886e-03,  9.55717752e-03,\n",
       "        6.74025307e-03,  1.47321950e-03,  2.73334142e-03,  1.49125100e-03,\n",
       "        6.23652379e-04,  3.95699964e-03,  9.48054323e-04, -2.81742960e-03,\n",
       "       -8.63045732e-04, -1.30051248e-02, -1.02429461e-02,  5.87840107e-04,\n",
       "       -9.38016835e-04, -7.32834235e-03,  1.22061708e-02,  9.73275497e-03,\n",
       "        5.51353300e-03, -7.95369227e-03, -4.60930748e-03,  5.80303053e-03,\n",
       "        7.91545147e-03,  5.37101106e-03,  7.16640597e-03, -1.81588806e-03,\n",
       "       -3.73412995e-04,  5.04774767e-03,  3.66911274e-03, -3.86934435e-03,\n",
       "       -1.22488859e-03,  5.03917770e-03, -9.03548672e-03,  6.37244803e-04,\n",
       "        9.57652602e-05,  5.89857515e-03,  5.14526693e-03,  6.13229660e-03,\n",
       "        1.26134267e-03, -4.51255053e-04,  1.78702432e-03,  2.82127835e-03,\n",
       "        5.64540667e-03, -3.82626343e-03,  8.23329860e-03,  2.63705503e-03,\n",
       "        7.18313765e-03,  6.56282413e-03,  1.07147417e-02,  2.07511932e-04,\n",
       "       -1.47483312e-03,  5.48797839e-03, -7.25490548e-03, -1.98648826e-03,\n",
       "       -9.79351995e-04, -2.32642576e-02, -8.74021895e-03, -1.57782976e-02,\n",
       "       -2.05272307e-03,  9.55930780e-03, -1.15251705e-02,  8.11099049e-03,\n",
       "       -3.68604568e-03,  4.24725500e-03, -8.83789294e-03, -7.07021421e-03,\n",
       "       -1.73437139e-03,  3.57611675e-03, -1.41861706e-03,  1.04356285e-02,\n",
       "        8.72648591e-03, -2.67420105e-03, -5.82227149e-03, -3.28795323e-03,\n",
       "       -9.51392906e-03, -1.05803250e-02, -9.27384931e-03,  8.71068129e-03,\n",
       "       -1.54256955e-03,  1.90234530e-02,  5.22962366e-04, -1.52970456e-03,\n",
       "       -4.87469863e-03, -1.59264103e-02, -9.89686272e-03,  2.98189563e-03,\n",
       "        3.05204779e-03, -3.98808498e-03, -1.15376060e-02,  1.32625862e-02,\n",
       "        5.28100369e-03, -6.91761217e-03,  9.69971425e-03,  3.25114084e-03,\n",
       "       -1.13811615e-02,  1.94255756e-02,  6.24688261e-04,  4.62174300e-03,\n",
       "        2.20630386e-03,  1.43238242e-03,  3.98381515e-03,  2.09874123e-03,\n",
       "        4.55603687e-03,  1.93287647e-03, -2.13296425e-03,  3.71454086e-03,\n",
       "       -1.18311832e-04,  1.95474274e-03,  2.80121307e-03, -4.12648914e-03,\n",
       "        4.46996609e-03,  7.01651943e-03,  4.40036288e-03, -1.98336026e-03,\n",
       "       -3.58274126e-03, -5.74925208e-03,  9.15875968e-03,  2.14642341e-04,\n",
       "        2.22993525e-03, -2.34134262e-03,  8.39355949e-03,  9.25368991e-06,\n",
       "       -4.39546203e-04, -5.62403662e-03, -5.43705952e-03, -8.07848203e-03,\n",
       "       -7.52142237e-03,  1.90173724e-03, -1.00932930e-02,  8.00548400e-03,\n",
       "        8.68378377e-03,  7.87353314e-03, -5.17839016e-03, -1.78213725e-03,\n",
       "        1.14750314e-02, -3.72107320e-03, -6.32935061e-03, -3.32596321e-03,\n",
       "        8.63765735e-03,  7.83366793e-03, -6.50053165e-05,  1.79240596e-03,\n",
       "        5.18218774e-03,  1.27733944e-03, -4.48110383e-03,  8.92853012e-04,\n",
       "       -1.65007349e-03, -8.27789275e-03,  5.75139233e-03, -2.87317641e-03,\n",
       "        7.51785199e-03, -5.48889515e-03,  6.22534832e-04, -9.07685379e-03,\n",
       "       -7.71220271e-03,  1.18234789e-02, -5.31999291e-03,  3.99726009e-03,\n",
       "        6.54211722e-03, -1.87095516e-03,  2.13028210e-03,  7.44942052e-03,\n",
       "        8.69352892e-03,  9.59144991e-05,  6.84124476e-03, -3.90086363e-04,\n",
       "       -7.44629682e-03,  6.51010117e-03, -2.50725605e-03, -2.12650666e-03,\n",
       "        4.84617280e-03,  6.77099417e-03,  4.47010532e-03, -2.06568891e-04,\n",
       "        3.17103845e-03,  9.94421212e-03,  3.65301662e-03,  3.26426404e-03,\n",
       "       -9.06969577e-04, -8.94572632e-03,  1.03248642e-02,  2.31497782e-03,\n",
       "        2.06373879e-04,  5.31632344e-03,  1.80786026e-03, -3.59175988e-03,\n",
       "       -6.45260073e-03,  6.98764943e-03, -4.37687471e-03,  7.52741534e-03,\n",
       "        7.06143888e-03,  1.65775748e-03,  1.02412085e-03, -2.21450001e-03,\n",
       "        1.16681520e-02,  3.98137180e-03, -3.96984282e-03, -1.29149240e-03,\n",
       "        3.16867635e-04, -8.40289371e-03, -5.35728932e-03, -3.76292284e-03,\n",
       "        5.22351322e-03,  4.52461233e-03, -1.30294846e-02, -1.31665224e-02,\n",
       "        7.30011074e-03,  1.27793560e-02, -1.19363971e-02, -8.68800949e-03,\n",
       "       -3.94985327e-03, -8.12241029e-03, -1.57676051e-02,  9.12249029e-03,\n",
       "       -1.23334643e-03, -6.89808030e-03, -4.29057486e-03,  7.12230512e-03,\n",
       "       -1.36306242e-02, -2.38528308e-02, -2.66811331e-02,  3.06306918e-03,\n",
       "       -4.54191853e-03,  1.54401736e-02, -2.15533312e-02,  2.32396809e-02,\n",
       "        3.81952733e-03,  6.87277051e-03, -1.24424290e-02, -1.43020458e-02,\n",
       "       -5.65824400e-03, -9.60933115e-03,  7.68222494e-03, -9.76551994e-03,\n",
       "       -9.37293208e-03,  2.20189432e-02, -5.11664886e-03,  1.84538751e-02,\n",
       "       -5.92109064e-04,  1.66225934e-02, -2.74803373e-03,  5.70125428e-04,\n",
       "        6.49572650e-03, -1.24547101e-03, -9.73056721e-03,  9.56860201e-03,\n",
       "       -5.85872903e-04,  3.81986139e-03,  6.16952537e-03,  7.60143042e-03,\n",
       "       -9.95967817e-03, -5.26923293e-03, -6.91506172e-03,  9.67535089e-03,\n",
       "        5.36288881e-03,  4.04750318e-03,  1.21028815e-02,  1.66226160e-03,\n",
       "        6.43574597e-04, -1.30929137e-03, -7.96724780e-03, -1.68553914e-02,\n",
       "        8.73018493e-03, -1.91935439e-02,  5.78731843e-03,  1.78639985e-02,\n",
       "        5.02440024e-03,  1.28804481e-03,  7.67205438e-03,  1.86897005e-03,\n",
       "        5.37185916e-03, -1.42241026e-03, -1.80519919e-02, -8.41547331e-03,\n",
       "        6.22215970e-03,  4.65523749e-03,  7.43056457e-03])"
      ]
     },
     "execution_count": 47,
     "metadata": {},
     "output_type": "execute_result"
    }
   ],
   "source": [
    "Nifty_df['Day_Precentage_Change'][:-90].values\n"
   ]
  },
  {
   "cell_type": "code",
   "execution_count": null,
   "metadata": {},
   "outputs": [],
   "source": []
  }
 ],
 "metadata": {
  "kernelspec": {
   "display_name": "Python 3",
   "language": "python",
   "name": "python3"
  },
  "language_info": {
   "codemirror_mode": {
    "name": "ipython",
    "version": 3
   },
   "file_extension": ".py",
   "mimetype": "text/x-python",
   "name": "python",
   "nbconvert_exporter": "python",
   "pygments_lexer": "ipython3",
   "version": "3.7.3"
  }
 },
 "nbformat": 4,
 "nbformat_minor": 2
}
